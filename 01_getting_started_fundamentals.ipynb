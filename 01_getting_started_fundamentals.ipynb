{
 "cells": [
  {
   "cell_type": "markdown",
   "id": "40d3f376",
   "metadata": {
    "id": "40d3f376"
   },
   "source": [
    "# Getting Started: Fundamentals\n",
    "\n",
    "## Introduction to Python\n",
    "\n",
    "Data Sciences Institute, University of Toronto\n",
    "\n",
    "Instructor: Kaylie Lau | TA: Salaar Liaqat \n",
    "\n",
    "November - December 2022"
   ]
  },
  {
   "cell_type": "markdown",
   "id": "e5e5ab47",
   "metadata": {
    "id": "e5e5ab47"
   },
   "source": [
    "# Contents:\n",
    "\n",
    "1. Introduction\n",
    "  1. Programing\n",
    "  2. Python\n",
    "2. Python Fundamentals \n",
    "  1. Types\n",
    "  2. Statements and Expressions\n",
    "  3. Logical Data\n",
    "  4. Variables\n",
    "  5. Errors\n",
    "  6. Comments and Readability\n",
    "  7. Functions\n",
    "  8. Strings\n",
    "  9. Input"
   ]
  },
  {
   "cell_type": "markdown",
   "id": "f31cc4a9",
   "metadata": {
    "id": "f31cc4a9"
   },
   "source": [
    "# Programming"
   ]
  },
  {
   "cell_type": "markdown",
   "id": "6c7e1c79",
   "metadata": {
    "id": "6c7e1c79"
   },
   "source": [
    "## What is programming ?\n",
    "\n",
    "A *program* is a set of instructions. *Programming* defines new sets of instructions to perform a useful task. A *programming language* lets us write those instructions in a way that a computer can interpret and execute."
   ]
  },
  {
   "cell_type": "markdown",
   "id": "0e4ae887",
   "metadata": {
    "id": "0e4ae887"
   },
   "source": [
    "# Python"
   ]
  },
  {
   "cell_type": "markdown",
   "id": "e7b999b1",
   "metadata": {
    "id": "e7b999b1"
   },
   "source": [
    "## What is Python?\n",
    "\n",
    "Python is a general-purpose programming language first released in 1991. It has since become a popular language for data science, thanks to an enthusiastic community and a large ecosystem of code libraries and tools that make it easier to perform common tasks throughout the data science life cycle."
   ]
  },
  {
   "cell_type": "markdown",
   "id": "c1370ffe",
   "metadata": {
    "id": "c1370ffe"
   },
   "source": [
    "# Python Fundamentals"
   ]
  },
  {
   "cell_type": "markdown",
   "id": "61d24008",
   "metadata": {
    "id": "61d24008"
   },
   "source": [
    "## Types\n",
    "\n",
    "Every piece of data in Python has a _type_. Data types dictate how values are stored by the computer and what operations we can perform on the data. For example, an `int`, or integer, value must be a whole number, and we can use it for arithmetic. The `float`, or floating point data type supports decimal numbers. There are other types for text (`string`), true/false values (`bool`), and more complex data that we will go into later."
   ]
  },
  {
   "cell_type": "markdown",
   "id": "d1032864",
   "metadata": {
    "id": "d1032864"
   },
   "source": [
    "## Statements and Expressions\n",
    "\n",
    "A _statement_ in programming is a command. You can think of them as the smallest units of code. An _expression_ is a statement that produces a single value.\n",
    "\n",
    "We can use arithmetic operators like `+` and `-` to write simple expressions."
   ]
  },
  {
   "cell_type": "code",
   "execution_count": null,
   "id": "ec52cb74",
   "metadata": {
    "colab": {
     "base_uri": "https://localhost:8080/"
    },
    "executionInfo": {
     "elapsed": 28,
     "status": "ok",
     "timestamp": 1668186466235,
     "user": {
      "displayName": "Kaylie Lau",
      "userId": "01284785813595846851"
     },
     "user_tz": 300
    },
    "id": "ec52cb74",
    "outputId": "f06801c9-23d0-4eae-b5cf-b94d9d175aee"
   },
   "outputs": [
    {
     "data": {
      "text/plain": [
       "11"
      ]
     },
     "execution_count": 1,
     "metadata": {},
     "output_type": "execute_result"
    }
   ],
   "source": [
    "5 + 6"
   ]
  },
  {
   "cell_type": "markdown",
   "id": "85bfb339",
   "metadata": {
    "id": "85bfb339"
   },
   "source": [
    "`5 + 6` is an expression.  \n",
    "`+` is an operator.  \n",
    "`5` and `6` are operands.  \n",
    "`11` is a value."
   ]
  },
  {
   "cell_type": "markdown",
   "id": "d074ec3c",
   "metadata": {
    "id": "d074ec3c"
   },
   "source": [
    "The result of an expression may be a different data type than its inputs."
   ]
  },
  {
   "cell_type": "code",
   "execution_count": null,
   "id": "f7552f6f",
   "metadata": {
    "colab": {
     "base_uri": "https://localhost:8080/"
    },
    "executionInfo": {
     "elapsed": 25,
     "status": "ok",
     "timestamp": 1668186466239,
     "user": {
      "displayName": "Kaylie Lau",
      "userId": "01284785813595846851"
     },
     "user_tz": 300
    },
    "id": "f7552f6f",
    "outputId": "334cee48-c6ec-4dbf-8ab2-ead6ba982c46"
   },
   "outputs": [
    {
     "data": {
      "text/plain": [
       "2.5"
      ]
     },
     "execution_count": 2,
     "metadata": {},
     "output_type": "execute_result"
    }
   ],
   "source": [
    "5 / 2"
   ]
  },
  {
   "cell_type": "markdown",
   "id": "520787cd",
   "metadata": {
    "id": "520787cd"
   },
   "source": [
    "## Additional Arithmetic Operators\n",
    "\n",
    "| Operator | Description |\n",
    "|---|---|\n",
    "| // | Integer division (always rounds down)|\n",
    "| % | Modulo or remainder |\n",
    "| ** | Exponentiation |"
   ]
  },
  {
   "cell_type": "markdown",
   "id": "c2ddcdfb",
   "metadata": {
    "id": "c2ddcdfb"
   },
   "source": [
    "### Examples"
   ]
  },
  {
   "cell_type": "code",
   "execution_count": null,
   "id": "8f09ff90",
   "metadata": {
    "colab": {
     "base_uri": "https://localhost:8080/"
    },
    "executionInfo": {
     "elapsed": 98,
     "status": "ok",
     "timestamp": 1668186466506,
     "user": {
      "displayName": "Kaylie Lau",
      "userId": "01284785813595846851"
     },
     "user_tz": 300
    },
    "id": "8f09ff90",
    "outputId": "35dfccd8-f01d-418c-a953-39cb6b9cd01c"
   },
   "outputs": [
    {
     "data": {
      "text/plain": [
       "3"
      ]
     },
     "execution_count": 3,
     "metadata": {},
     "output_type": "execute_result"
    }
   ],
   "source": [
    "10 // 3"
   ]
  },
  {
   "cell_type": "code",
   "execution_count": null,
   "id": "f6df46e3",
   "metadata": {
    "colab": {
     "base_uri": "https://localhost:8080/"
    },
    "executionInfo": {
     "elapsed": 96,
     "status": "ok",
     "timestamp": 1668186466507,
     "user": {
      "displayName": "Kaylie Lau",
      "userId": "01284785813595846851"
     },
     "user_tz": 300
    },
    "id": "f6df46e3",
    "outputId": "d7f0605b-6e66-4bff-f6dc-0983f681dfdb"
   },
   "outputs": [
    {
     "data": {
      "text/plain": [
       "1"
      ]
     },
     "execution_count": 4,
     "metadata": {},
     "output_type": "execute_result"
    }
   ],
   "source": [
    "10 % 3"
   ]
  },
  {
   "cell_type": "code",
   "execution_count": null,
   "id": "d93768ac",
   "metadata": {
    "colab": {
     "base_uri": "https://localhost:8080/"
    },
    "executionInfo": {
     "elapsed": 80,
     "status": "ok",
     "timestamp": 1668186466507,
     "user": {
      "displayName": "Kaylie Lau",
      "userId": "01284785813595846851"
     },
     "user_tz": 300
    },
    "id": "d93768ac",
    "outputId": "99222534-448e-47f5-aa2a-4e6278a6c56a"
   },
   "outputs": [
    {
     "data": {
      "text/plain": [
       "3.3333333333333335"
      ]
     },
     "execution_count": 5,
     "metadata": {},
     "output_type": "execute_result"
    }
   ],
   "source": [
    "10 / 3"
   ]
  },
  {
   "cell_type": "code",
   "execution_count": null,
   "id": "9ee5c9c8",
   "metadata": {
    "colab": {
     "base_uri": "https://localhost:8080/"
    },
    "executionInfo": {
     "elapsed": 66,
     "status": "ok",
     "timestamp": 1668186466508,
     "user": {
      "displayName": "Kaylie Lau",
      "userId": "01284785813595846851"
     },
     "user_tz": 300
    },
    "id": "9ee5c9c8",
    "outputId": "e3a9853c-9534-462f-b1f5-ad0dcae2bfde"
   },
   "outputs": [
    {
     "data": {
      "text/plain": [
       "1000"
      ]
     },
     "execution_count": 6,
     "metadata": {},
     "output_type": "execute_result"
    }
   ],
   "source": [
    "10 ** 3"
   ]
  },
  {
   "cell_type": "markdown",
   "id": "c6ab576c",
   "metadata": {
    "id": "c6ab576c"
   },
   "source": [
    "# Logical Data"
   ]
  },
  {
   "cell_type": "markdown",
   "id": "0294d7fe",
   "metadata": {
    "id": "0294d7fe"
   },
   "source": [
    "## True/False\n",
    "\n",
    "Python also has a data type, `bool`, for `True` and `False` values. The term `bool` derives from Boolean, which is itself a reference to the mathematician and logician George Boole, whose work underpins information and computing."
   ]
  },
  {
   "cell_type": "markdown",
   "id": "6a34dcb6",
   "metadata": {
    "id": "6a34dcb6"
   },
   "source": [
    "## Comparison operators\n",
    "\n",
    "Python has comparison operators as well as arithmetic operators. Unlike arithmetic expressions, which produce integer or float values, comparison expressions produce a Boolean value.\n",
    "\n",
    "| Operator | Description |\n",
    "| --- | --- |\n",
    "| `>` | Greater than |\n",
    "| `>=` | Greater than or equal to |\n",
    "| `<` | Less than |\n",
    "| `<=` | Less than or equal to |\n",
    "| `==` | Equal to |\n",
    "| `!=` | Not equal to |"
   ]
  },
  {
   "cell_type": "markdown",
   "id": "2604afb5",
   "metadata": {
    "id": "2604afb5"
   },
   "source": [
    "### Examples"
   ]
  },
  {
   "cell_type": "code",
   "execution_count": null,
   "id": "55307f4c",
   "metadata": {
    "colab": {
     "base_uri": "https://localhost:8080/"
    },
    "executionInfo": {
     "elapsed": 54,
     "status": "ok",
     "timestamp": 1668186466509,
     "user": {
      "displayName": "Kaylie Lau",
      "userId": "01284785813595846851"
     },
     "user_tz": 300
    },
    "id": "55307f4c",
    "outputId": "c5b30629-587e-4dcb-a165-a6413ae09c9c"
   },
   "outputs": [
    {
     "data": {
      "text/plain": [
       "True"
      ]
     },
     "execution_count": 7,
     "metadata": {},
     "output_type": "execute_result"
    }
   ],
   "source": [
    "50 > 25"
   ]
  },
  {
   "cell_type": "code",
   "execution_count": null,
   "id": "b9bcb9bb",
   "metadata": {
    "colab": {
     "base_uri": "https://localhost:8080/"
    },
    "executionInfo": {
     "elapsed": 41,
     "status": "ok",
     "timestamp": 1668186466510,
     "user": {
      "displayName": "Kaylie Lau",
      "userId": "01284785813595846851"
     },
     "user_tz": 300
    },
    "id": "b9bcb9bb",
    "outputId": "efbaec6c-74d5-40ee-ae6f-0ff8c76fd675"
   },
   "outputs": [
    {
     "data": {
      "text/plain": [
       "False"
      ]
     },
     "execution_count": 8,
     "metadata": {},
     "output_type": "execute_result"
    }
   ],
   "source": [
    "-15 >= -14.99"
   ]
  },
  {
   "cell_type": "code",
   "execution_count": null,
   "id": "8a33c0a7",
   "metadata": {
    "colab": {
     "base_uri": "https://localhost:8080/"
    },
    "executionInfo": {
     "elapsed": 28,
     "status": "ok",
     "timestamp": 1668186466510,
     "user": {
      "displayName": "Kaylie Lau",
      "userId": "01284785813595846851"
     },
     "user_tz": 300
    },
    "id": "8a33c0a7",
    "outputId": "dc18a23c-86e2-49f4-f680-4fa09388c17e"
   },
   "outputs": [
    {
     "data": {
      "text/plain": [
       "True"
      ]
     },
     "execution_count": 9,
     "metadata": {},
     "output_type": "execute_result"
    }
   ],
   "source": [
    "20 == 20"
   ]
  },
  {
   "cell_type": "markdown",
   "id": "b3f69e98",
   "metadata": {
    "id": "b3f69e98"
   },
   "source": [
    "## Operator precedence\n",
    "\n",
    "Arithmetic and comparison operators are evaluated in the following order. We can enclose operations in parentheses to override the order of precedence -- operations in parentheses are evaluated before the rest of the expression.\n",
    "\n",
    "| Order | Operator | Description |\n",
    "|---|---|---|\n",
    "| 1 | `**` | Exponentiation |\n",
    "| 2 | `-`| Negation |\n",
    "| 3 | `*`, `/`, `//`, `%` | Multiplication, division, integer division, and modulo |\n",
    "| 4 | `+`, `-` | Addition and subtraction |\n",
    "| 5 | `<`, `<=`, `>`, `>=`, `==`, `!=` | Less than, less than or equal to, greater than, greater than or equal to, equal, not equal |"
   ]
  },
  {
   "cell_type": "markdown",
   "id": "1707a97c",
   "metadata": {
    "id": "1707a97c"
   },
   "source": [
    "# Variables"
   ]
  },
  {
   "cell_type": "markdown",
   "id": "cd134d80",
   "metadata": {
    "id": "cd134d80"
   },
   "source": [
    "## What is a variable?\n",
    "\n",
    "A _variable_ is a name that refers to a value. Variables make it easier to keep track of data.\n",
    "\n",
    "Variable names in Python can include letters, digits, and underscores. They cannot start with a digit. They are also case sensitive, so `variable` and `Variable` would be two different variables!"
   ]
  },
  {
   "cell_type": "markdown",
   "id": "9fb6371f",
   "metadata": {
    "id": "9fb6371f"
   },
   "source": [
    "## Creating variables\n",
    "\n",
    "To create a variable, we assign it a value using the assignment operator `=`."
   ]
  },
  {
   "cell_type": "code",
   "execution_count": null,
   "id": "d3a1912f",
   "metadata": {
    "id": "d3a1912f"
   },
   "outputs": [],
   "source": [
    "degrees_celsius = 25"
   ]
  },
  {
   "cell_type": "markdown",
   "id": "a3047a6d",
   "metadata": {
    "id": "a3047a6d"
   },
   "source": [
    "This statement is called an _assignment statement_. Now that the variable `degrees_celsius` has been assigned a value, we can use it anywhere we would use that value."
   ]
  },
  {
   "cell_type": "code",
   "execution_count": null,
   "id": "68a76f09",
   "metadata": {
    "colab": {
     "base_uri": "https://localhost:8080/"
    },
    "executionInfo": {
     "elapsed": 102,
     "status": "ok",
     "timestamp": 1668186466816,
     "user": {
      "displayName": "Kaylie Lau",
      "userId": "01284785813595846851"
     },
     "user_tz": 300
    },
    "id": "68a76f09",
    "outputId": "c08f575e-a268-4dac-f741-ad609a2a41b3"
   },
   "outputs": [
    {
     "data": {
      "text/plain": [
       "77.0"
      ]
     },
     "execution_count": 11,
     "metadata": {},
     "output_type": "execute_result"
    }
   ],
   "source": [
    "degrees_fahrenheit = (9 / 5) * degrees_celsius + 32\n",
    "degrees_fahrenheit"
   ]
  },
  {
   "cell_type": "markdown",
   "id": "97e0fbd0",
   "metadata": {
    "id": "97e0fbd0"
   },
   "source": [
    "## Reassigning variables\n",
    "\n",
    "When we reassign a variable, we change the value that variable refers to. Reassigning a variable does not change any other variable. Notice that `degrees_fahrenheit` stayed the same, even when we reassigned `degrees_celsius`."
   ]
  },
  {
   "cell_type": "code",
   "execution_count": null,
   "id": "8e3bb515",
   "metadata": {
    "colab": {
     "base_uri": "https://localhost:8080/"
    },
    "executionInfo": {
     "elapsed": 101,
     "status": "ok",
     "timestamp": 1668186466817,
     "user": {
      "displayName": "Kaylie Lau",
      "userId": "01284785813595846851"
     },
     "user_tz": 300
    },
    "id": "8e3bb515",
    "outputId": "724b8816-cbf4-48eb-9645-4f67c2f8ca05"
   },
   "outputs": [
    {
     "data": {
      "text/plain": [
       "77.0"
      ]
     },
     "execution_count": 12,
     "metadata": {},
     "output_type": "execute_result"
    }
   ],
   "source": [
    "degrees_celsius = 0\n",
    "degrees_fahrenheit"
   ]
  },
  {
   "cell_type": "markdown",
   "id": "19442de0",
   "metadata": {
    "id": "19442de0"
   },
   "source": [
    "We can use a variable on both sides of an assignment statement. This is useful for updating a variable based on its current value."
   ]
  },
  {
   "cell_type": "code",
   "execution_count": null,
   "id": "79efac68",
   "metadata": {
    "colab": {
     "base_uri": "https://localhost:8080/"
    },
    "executionInfo": {
     "elapsed": 88,
     "status": "ok",
     "timestamp": 1668186466818,
     "user": {
      "displayName": "Kaylie Lau",
      "userId": "01284785813595846851"
     },
     "user_tz": 300
    },
    "id": "79efac68",
    "outputId": "7432641a-13ed-4575-dabb-4a72468b639a"
   },
   "outputs": [
    {
     "data": {
      "text/plain": [
       "10"
      ]
     },
     "execution_count": 13,
     "metadata": {},
     "output_type": "execute_result"
    }
   ],
   "source": [
    "degrees_celsius = degrees_celsius + 10\n",
    "degrees_celsius"
   ]
  },
  {
   "cell_type": "markdown",
   "id": "a0b7b6ab",
   "metadata": {
    "id": "a0b7b6ab"
   },
   "source": [
    "Notice what happens when we set one variable equal to another, then reassign the first one."
   ]
  },
  {
   "cell_type": "code",
   "execution_count": null,
   "id": "1ce3bd9d",
   "metadata": {
    "colab": {
     "base_uri": "https://localhost:8080/"
    },
    "executionInfo": {
     "elapsed": 76,
     "status": "ok",
     "timestamp": 1668186466819,
     "user": {
      "displayName": "Kaylie Lau",
      "userId": "01284785813595846851"
     },
     "user_tz": 300
    },
    "id": "1ce3bd9d",
    "outputId": "ea76c0fe-b529-4e52-9150-cca8ad879484"
   },
   "outputs": [
    {
     "data": {
      "text/plain": [
       "1"
      ]
     },
     "execution_count": 14,
     "metadata": {},
     "output_type": "execute_result"
    }
   ],
   "source": [
    "a = 1\n",
    "b = a\n",
    "b"
   ]
  },
  {
   "cell_type": "code",
   "execution_count": null,
   "id": "481d05d3",
   "metadata": {
    "colab": {
     "base_uri": "https://localhost:8080/"
    },
    "executionInfo": {
     "elapsed": 62,
     "status": "ok",
     "timestamp": 1668186466821,
     "user": {
      "displayName": "Kaylie Lau",
      "userId": "01284785813595846851"
     },
     "user_tz": 300
    },
    "id": "481d05d3",
    "outputId": "91270888-6b09-4213-a979-54a14c5d4891"
   },
   "outputs": [
    {
     "data": {
      "text/plain": [
       "1"
      ]
     },
     "execution_count": 15,
     "metadata": {},
     "output_type": "execute_result"
    }
   ],
   "source": [
    "a = 2\n",
    "b"
   ]
  },
  {
   "cell_type": "code",
   "execution_count": null,
   "id": "3b227766",
   "metadata": {
    "colab": {
     "base_uri": "https://localhost:8080/"
    },
    "executionInfo": {
     "elapsed": 46,
     "status": "ok",
     "timestamp": 1668186466822,
     "user": {
      "displayName": "Kaylie Lau",
      "userId": "01284785813595846851"
     },
     "user_tz": 300
    },
    "id": "3b227766",
    "outputId": "bbad7e7d-466b-4f93-e9da-39638062b091"
   },
   "outputs": [
    {
     "name": "stdout",
     "output_type": "stream",
     "text": [
      "11126720\n",
      "11126688\n"
     ]
    }
   ],
   "source": [
    "print(id(a))\n",
    "print(id(b))"
   ]
  },
  {
   "cell_type": "markdown",
   "id": "99aba8e0",
   "metadata": {
    "id": "99aba8e0"
   },
   "source": [
    "## Augmented assignment\n",
    "\n",
    "While `degrees_celsius = degrees_celsius + 10` is a valid statement, there is a more concise way to express this: by putting the operator `+` before the assignment operator `=`."
   ]
  },
  {
   "cell_type": "code",
   "execution_count": null,
   "id": "4affd490",
   "metadata": {
    "colab": {
     "base_uri": "https://localhost:8080/"
    },
    "executionInfo": {
     "elapsed": 33,
     "status": "ok",
     "timestamp": 1668186466823,
     "user": {
      "displayName": "Kaylie Lau",
      "userId": "01284785813595846851"
     },
     "user_tz": 300
    },
    "id": "4affd490",
    "outputId": "74a47a72-7d0e-4f84-a52f-e2e396f319a8"
   },
   "outputs": [
    {
     "data": {
      "text/plain": [
       "10"
      ]
     },
     "execution_count": 17,
     "metadata": {},
     "output_type": "execute_result"
    }
   ],
   "source": [
    "degrees_celsius = 0\n",
    "degrees_celsius += 10\n",
    "degrees_celsius"
   ]
  },
  {
   "cell_type": "markdown",
   "id": "74c246b0",
   "metadata": {
    "id": "74c246b0"
   },
   "source": [
    "Similarly, subtraction, multiplication, division, expontiation, integer division, and modulo can be used as an augmented assignment."
   ]
  },
  {
   "cell_type": "markdown",
   "id": "6e0db7b2",
   "metadata": {
    "id": "6e0db7b2"
   },
   "source": [
    "# Errors"
   ]
  },
  {
   "cell_type": "markdown",
   "id": "16f27979",
   "metadata": {
    "id": "16f27979"
   },
   "source": [
    "## What causes errors?\n",
    "\n",
    "Errors indicate that there is something in the code that the computer cannot execute. We will see some of the reasons that can happen. When an error occurs, Python produces an error message called a _traceback_. Tracebacks can be quite cryptic, but they tell us what code was running at the time of the error. When in doubt, copying the error message at the bottom of a traceback into a search engine can help."
   ]
  },
  {
   "cell_type": "markdown",
   "id": "d7a1f381",
   "metadata": {
    "id": "d7a1f381"
   },
   "source": [
    "## Syntax errors\n",
    "\n",
    "A _syntax error_ occurs when our program contains code that isn't valid Python. Below, we are trying to assign the value `x` to the variable `12` -- but variable names that start with digits are not allowed in Python!"
   ]
  },
  {
   "cell_type": "code",
   "execution_count": null,
   "id": "917b947b",
   "metadata": {
    "colab": {
     "base_uri": "https://localhost:8080/",
     "height": 130
    },
    "executionInfo": {
     "elapsed": 20,
     "status": "error",
     "timestamp": 1668186466824,
     "user": {
      "displayName": "Kaylie Lau",
      "userId": "01284785813595846851"
     },
     "user_tz": 300
    },
    "id": "917b947b",
    "outputId": "564dca16-6b44-4c5b-c224-2ef039ce8215"
   },
   "outputs": [
    {
     "ename": "SyntaxError",
     "evalue": "ignored",
     "output_type": "error",
     "traceback": [
      "\u001b[0;36m  File \u001b[0;32m\"<ipython-input-18-1dfa6eaf817a>\"\u001b[0;36m, line \u001b[0;32m1\u001b[0m\n\u001b[0;31m    12 = x\u001b[0m\n\u001b[0m          ^\u001b[0m\n\u001b[0;31mSyntaxError\u001b[0m\u001b[0;31m:\u001b[0m can't assign to literal\n"
     ]
    }
   ],
   "source": [
    "12 = x"
   ]
  },
  {
   "cell_type": "markdown",
   "id": "c2b3f063",
   "metadata": {
    "id": "c2b3f063"
   },
   "source": [
    "Below, Python expects another operand to the right of `-`, and throws a syntax error because there isn't a second operand."
   ]
  },
  {
   "cell_type": "code",
   "execution_count": null,
   "id": "a4c43ab3",
   "metadata": {
    "id": "a4c43ab3"
   },
   "outputs": [],
   "source": [
    "25 - "
   ]
  },
  {
   "cell_type": "markdown",
   "id": "4f58b933",
   "metadata": {
    "id": "4f58b933"
   },
   "source": [
    "## Name errors\n",
    "\n",
    "A _name error_ occurs when we try to use a variable that hasn't been assigned yet. Name errors are especially common when working in notebooks, where code is often not run from top to bottom."
   ]
  },
  {
   "cell_type": "code",
   "execution_count": null,
   "id": "761ba2c8",
   "metadata": {
    "id": "761ba2c8"
   },
   "outputs": [],
   "source": [
    "my_variable + 1"
   ]
  },
  {
   "cell_type": "markdown",
   "id": "4c90736a",
   "metadata": {
    "id": "4c90736a"
   },
   "source": [
    "# Comments"
   ]
  },
  {
   "cell_type": "markdown",
   "id": "43450dfd",
   "metadata": {
    "id": "43450dfd"
   },
   "source": [
    "## What are comments?\n",
    "\n",
    "Comments are a way to annotate code within code. They're used to explain parts of code to human audiences. In Python, comments start with a `#` symbol. The interpreter ignores everything from the `#` to the end of the line when translating a program into machine instructions."
   ]
  },
  {
   "cell_type": "code",
   "execution_count": null,
   "id": "07b096a8",
   "metadata": {
    "id": "07b096a8"
   },
   "outputs": [],
   "source": [
    "# This is a comment. It is not evaluated when we run our code"
   ]
  },
  {
   "cell_type": "code",
   "execution_count": null,
   "id": "5ca26540",
   "metadata": {
    "colab": {
     "base_uri": "https://localhost:8080/"
    },
    "executionInfo": {
     "elapsed": 215,
     "status": "ok",
     "timestamp": 1668186521151,
     "user": {
      "displayName": "Kaylie Lau",
      "userId": "01284785813595846851"
     },
     "user_tz": 300
    },
    "id": "5ca26540",
    "outputId": "207e3b71-0e74-44a8-d798-23b589a67844"
   },
   "outputs": [
    {
     "data": {
      "text/plain": [
       "71.33333333333333"
      ]
     },
     "execution_count": 20,
     "metadata": {},
     "output_type": "execute_result"
    }
   ],
   "source": [
    "student1_grade = 90\n",
    "student2_grade = 50\n",
    "student3_grade = 74\n",
    "average_grade = (student1_grade + student2_grade + student3_grade) / 3 \n",
    "average_grade  # These lines of code will produce a value. \n",
    "# Python will ignore everything after the # symbol."
   ]
  },
  {
   "cell_type": "markdown",
   "id": "6f43b431",
   "metadata": {
    "id": "6f43b431"
   },
   "source": [
    "# Readability"
   ]
  },
  {
   "cell_type": "markdown",
   "id": "8dca9af3",
   "metadata": {
    "id": "8dca9af3"
   },
   "source": [
    "## What is readable code and why should we care?\n",
    "\n",
    "Code that is easier to read is easier to debug and maintain. Readability becomes more important the larger the codebase or the team is."
   ]
  },
  {
   "cell_type": "markdown",
   "id": "79743bbe",
   "metadata": {
    "id": "79743bbe"
   },
   "source": [
    "Some practices that make code easier to read:  \n",
    "* **White space**: A space to either side of an operand helps readability. We can also split code across multiple lines by wrapping it in parentheses.\n",
    "* **Comments**: Comments communicate the gist of a program and help explain complicated sections of code. They can also be used to plan future work in plain language, or to toggle lines of code on and off for debugging.\n",
    "* **Clear and consistent variable names**: Descriptive variable names contribute to self-documenting code and reduce the need for comments. Consistent naming practices reduce the likelihood of referencing the wrong variable or raising a NameError."
   ]
  },
  {
   "cell_type": "markdown",
   "id": "f1caca54",
   "metadata": {
    "id": "f1caca54"
   },
   "source": [
    "## Which code is easier to read and follow?\n",
    "\n",
    "1.  \n",
    "```python\n",
    "studentone_grade=90\n",
    "StudentGrade2=50\n",
    "stu3gr=74\n",
    "avggrade=(studentone_grade+StudentGrade2+stut3gr)/3 \n",
    "```\n",
    "\n",
    "2.  \n",
    "```python\n",
    "student1_grade = 90\n",
    "student2_grade = 50\n",
    "student3_grade = 74\n",
    "average_grade = ((student1_grade \n",
    "                  + student2_grade \n",
    "                  + student3_grade) \n",
    "                 / 3)\n",
    "```\n"
   ]
  },
  {
   "cell_type": "markdown",
   "id": "2fa65e79",
   "metadata": {
    "id": "2fa65e79"
   },
   "source": [
    "# Functions"
   ]
  },
  {
   "cell_type": "markdown",
   "id": "3a700ac7",
   "metadata": {
    "id": "3a700ac7"
   },
   "source": [
    "## What is a function?\n",
    "\n",
    "A _function_ is a block of code that performs a task. A function takes zero or more inputs and _returns_ an output.\n",
    "\n",
    "When we use a function, we say we are _calling_ it. We call a function by typing out the function's name followed by parentheses. Inside the parentheses, we can _pass_ in data for the function to use. These values are called _arguments_."
   ]
  },
  {
   "cell_type": "markdown",
   "id": "b79adc3b",
   "metadata": {
    "id": "b79adc3b"
   },
   "source": [
    "## Built-in functions\n",
    "\n",
    "Python comes with several functions already built in. To display information, for example, we can call the `print()` function. (Note that if the last line in a notebook cell is an expression, the notebook will automatically display the result, no `print()` function needed.)"
   ]
  },
  {
   "cell_type": "code",
   "execution_count": null,
   "id": "345bda77",
   "metadata": {
    "colab": {
     "base_uri": "https://localhost:8080/"
    },
    "executionInfo": {
     "elapsed": 72,
     "status": "ok",
     "timestamp": 1668186521153,
     "user": {
      "displayName": "Kaylie Lau",
      "userId": "01284785813595846851"
     },
     "user_tz": 300
    },
    "id": "345bda77",
    "outputId": "e6ddc9e5-42da-4f2e-8135-c6ad848eb1fe"
   },
   "outputs": [
    {
     "name": "stdout",
     "output_type": "stream",
     "text": [
      "42\n"
     ]
    }
   ],
   "source": [
    "print(42)"
   ]
  },
  {
   "cell_type": "markdown",
   "id": "d25e6107",
   "metadata": {
    "id": "d25e6107"
   },
   "source": [
    "To check the data type of a value, we can call the `type()` function."
   ]
  },
  {
   "cell_type": "code",
   "execution_count": null,
   "id": "d4bad1e7",
   "metadata": {
    "colab": {
     "base_uri": "https://localhost:8080/"
    },
    "executionInfo": {
     "elapsed": 54,
     "status": "ok",
     "timestamp": 1668186521153,
     "user": {
      "displayName": "Kaylie Lau",
      "userId": "01284785813595846851"
     },
     "user_tz": 300
    },
    "id": "d4bad1e7",
    "outputId": "084fee55-672b-4ad7-e334-1d88878f68f4"
   },
   "outputs": [
    {
     "data": {
      "text/plain": [
       "int"
      ]
     },
     "execution_count": 22,
     "metadata": {},
     "output_type": "execute_result"
    }
   ],
   "source": [
    "type(42)"
   ]
  },
  {
   "cell_type": "markdown",
   "id": "f70b9a2d",
   "metadata": {
    "id": "f70b9a2d"
   },
   "source": [
    "We can pass in expressions as arguments. "
   ]
  },
  {
   "cell_type": "code",
   "execution_count": null,
   "id": "47c6ffff",
   "metadata": {
    "colab": {
     "base_uri": "https://localhost:8080/"
    },
    "executionInfo": {
     "elapsed": 39,
     "status": "ok",
     "timestamp": 1668186521154,
     "user": {
      "displayName": "Kaylie Lau",
      "userId": "01284785813595846851"
     },
     "user_tz": 300
    },
    "id": "47c6ffff",
    "outputId": "1444c3ec-0010-4659-ef4e-d78f4c6f4662"
   },
   "outputs": [
    {
     "name": "stdout",
     "output_type": "stream",
     "text": [
      "100\n"
     ]
    }
   ],
   "source": [
    "print(10 ** 2)"
   ]
  },
  {
   "cell_type": "markdown",
   "id": "aa7eec74",
   "metadata": {
    "id": "aa7eec74"
   },
   "source": [
    "## More built-in functions\n",
    "\n",
    "Some other useful built-in functions include `abs()` for absolute values, `round()` for rounding, and `int()` and `float()` for type conversion into integers and floats, respectively."
   ]
  },
  {
   "cell_type": "code",
   "execution_count": null,
   "id": "3cf13d07",
   "metadata": {
    "colab": {
     "base_uri": "https://localhost:8080/"
    },
    "executionInfo": {
     "elapsed": 309,
     "status": "ok",
     "timestamp": 1668186521440,
     "user": {
      "displayName": "Kaylie Lau",
      "userId": "01284785813595846851"
     },
     "user_tz": 300
    },
    "id": "3cf13d07",
    "outputId": "9d431ac1-5b91-4807-fc0b-e4441e6a2f3b"
   },
   "outputs": [
    {
     "data": {
      "text/plain": [
       "43"
      ]
     },
     "execution_count": 24,
     "metadata": {},
     "output_type": "execute_result"
    }
   ],
   "source": [
    "abs(-43)"
   ]
  },
  {
   "cell_type": "code",
   "execution_count": null,
   "id": "bf9825ec",
   "metadata": {
    "colab": {
     "base_uri": "https://localhost:8080/"
    },
    "executionInfo": {
     "elapsed": 138,
     "status": "ok",
     "timestamp": 1668186521441,
     "user": {
      "displayName": "Kaylie Lau",
      "userId": "01284785813595846851"
     },
     "user_tz": 300
    },
    "id": "bf9825ec",
    "outputId": "b2d62f37-d776-4ada-dd67-3df6855bfddb"
   },
   "outputs": [
    {
     "data": {
      "text/plain": [
       "1"
      ]
     },
     "execution_count": 25,
     "metadata": {},
     "output_type": "execute_result"
    }
   ],
   "source": [
    "round(2/3)"
   ]
  },
  {
   "cell_type": "code",
   "execution_count": null,
   "id": "c1bff1ca",
   "metadata": {
    "colab": {
     "base_uri": "https://localhost:8080/"
    },
    "executionInfo": {
     "elapsed": 137,
     "status": "ok",
     "timestamp": 1668186521442,
     "user": {
      "displayName": "Kaylie Lau",
      "userId": "01284785813595846851"
     },
     "user_tz": 300
    },
    "id": "c1bff1ca",
    "outputId": "2c7b4dd6-96f2-4203-a6df-b974b7b3eff0"
   },
   "outputs": [
    {
     "data": {
      "text/plain": [
       "3"
      ]
     },
     "execution_count": 26,
     "metadata": {},
     "output_type": "execute_result"
    }
   ],
   "source": [
    "int(3.99)"
   ]
  },
  {
   "cell_type": "code",
   "execution_count": null,
   "id": "9c79d3da",
   "metadata": {
    "colab": {
     "base_uri": "https://localhost:8080/"
    },
    "executionInfo": {
     "elapsed": 120,
     "status": "ok",
     "timestamp": 1668186521442,
     "user": {
      "displayName": "Kaylie Lau",
      "userId": "01284785813595846851"
     },
     "user_tz": 300
    },
    "id": "9c79d3da",
    "outputId": "90da9fef-1c71-4d5a-a0fb-d3fe6aa6e5f5"
   },
   "outputs": [
    {
     "data": {
      "text/plain": [
       "7.0"
      ]
     },
     "execution_count": 27,
     "metadata": {},
     "output_type": "execute_result"
    }
   ],
   "source": [
    "float(7)"
   ]
  },
  {
   "cell_type": "markdown",
   "id": "93f36746",
   "metadata": {
    "id": "93f36746"
   },
   "source": [
    "## Nesting functions\n",
    "\n",
    "We can also _nest_ functions within one another. Nested functions are evaluated from the inside out. The code below is evaluated in the following order:\n",
    "\n",
    "1. `2 * 1.5`\n",
    "2. `round()`\n",
    "3. `type()`\n",
    "4. `print()`"
   ]
  },
  {
   "cell_type": "code",
   "execution_count": null,
   "id": "49041e2a",
   "metadata": {
    "colab": {
     "base_uri": "https://localhost:8080/"
    },
    "executionInfo": {
     "elapsed": 104,
     "status": "ok",
     "timestamp": 1668186521443,
     "user": {
      "displayName": "Kaylie Lau",
      "userId": "01284785813595846851"
     },
     "user_tz": 300
    },
    "id": "49041e2a",
    "outputId": "47fd246c-c9b1-44c5-c66a-dd7eb0431c15"
   },
   "outputs": [
    {
     "name": "stdout",
     "output_type": "stream",
     "text": [
      "<class 'int'>\n"
     ]
    }
   ],
   "source": [
    "print(type(round(2 * 1.5)))"
   ]
  },
  {
   "cell_type": "markdown",
   "id": "10d33dcb",
   "metadata": {
    "id": "10d33dcb"
   },
   "source": [
    "## Getting help\n",
    "\n",
    "How do we know what a function does or what arguments it can take? One way is by looking up documentation online. Another is by using the built in `help()` function, with the name of the function we want to know about passed in as an argument. "
   ]
  },
  {
   "cell_type": "code",
   "execution_count": null,
   "id": "532fe5cc",
   "metadata": {
    "colab": {
     "base_uri": "https://localhost:8080/"
    },
    "executionInfo": {
     "elapsed": 87,
     "status": "ok",
     "timestamp": 1668186521444,
     "user": {
      "displayName": "Kaylie Lau",
      "userId": "01284785813595846851"
     },
     "user_tz": 300
    },
    "id": "532fe5cc",
    "outputId": "51ae7e6b-7524-4efb-81f3-5eabe86015bc"
   },
   "outputs": [
    {
     "name": "stdout",
     "output_type": "stream",
     "text": [
      "Help on built-in function round in module builtins:\n",
      "\n",
      "round(number, ndigits=None)\n",
      "    Round a number to a given precision in decimal digits.\n",
      "    \n",
      "    The return value is an integer if ndigits is omitted or None.  Otherwise\n",
      "    the return value has the same type as the number.  ndigits may be negative.\n",
      "\n"
     ]
    }
   ],
   "source": [
    "help(round)"
   ]
  },
  {
   "cell_type": "markdown",
   "id": "b8e495fb",
   "metadata": {
    "id": "b8e495fb"
   },
   "source": [
    "## Writing our own functions\n",
    "\n",
    "We can also create our own functions, which allows us to reuse code without copying and pasting. As we write longer programs, functions also help structure our code."
   ]
  },
  {
   "cell_type": "markdown",
   "id": "ffe15547",
   "metadata": {
    "id": "ffe15547"
   },
   "source": [
    "We use the `def` keyword to start a _function definition statement_. The function name follows `def`. Function names can use letters, digits, and underscores; they cannot start with a digit; and they are case sensitive. Functions in Python typically start with lowercase letters.\n",
    "\n",
    "After the function name come parameter names enclosed in parentheses. A _parameter_ is a variable used only within a function. When we pass an argument to a function, the argument value is assigned to a corresponding parameter.\n",
    "\n",
    "After the closing parenthesis comes a colon (`:`). The function _body_ follows on the next lines. The function body is an indented block of code that runs whenever we call the function. It can include comments as well as statements. The body does not run when we define the function, though!\n",
    "\n",
    "Finally, the body ends with a `return` statement. The return statement tells the function what value, if any, to output when it is called. Some functions, like `print()`, return `None` -- a special data type representing no data. If we don't write a `return` statement, Python will fill in an implicit one and return `None`."
   ]
  },
  {
   "cell_type": "markdown",
   "id": "01274079",
   "metadata": {
    "id": "01274079"
   },
   "source": [
    "`degrees_fahrenheit = (9 / 5) * degrees_celsius + 32`\n",
    "\n",
    "Let's turn our Celsius-to-Fahrenheit conversion code from earlier into a function.  "
   ]
  },
  {
   "cell_type": "markdown",
   "id": "bdcf02c8",
   "metadata": {
    "id": "bdcf02c8"
   },
   "source": [
    "We want our output to be a number representing degrees Fahrenheit. Our input is a number representing degrees Celsius.\n",
    "\n",
    "To make it easy to understand what our function does, let's call it `c_to_f()`. We'll need a parameter name for our input within the parentheses as well -- let's use `degrees_c`. Before writing any code in the body, we can add a comment briefly explaining what the function does.\n",
    "\n",
    "The output is the result of the expression `(9 / 5) * degrees_c + 32`. This calculation is pretty short, so we can put it in the `return` statement as is."
   ]
  },
  {
   "cell_type": "code",
   "execution_count": null,
   "id": "69a1cfea",
   "metadata": {
    "id": "69a1cfea"
   },
   "outputs": [],
   "source": [
    "def c_to_f(degrees_c):\n",
    "    # Convert degrees from Celsius to Fahrenheit\n",
    "    return ((9 / 5) * degrees_c + 32)"
   ]
  },
  {
   "cell_type": "markdown",
   "id": "ce855b6f",
   "metadata": {
    "id": "ce855b6f"
   },
   "source": [
    "Let's try `c_to_f()` out!"
   ]
  },
  {
   "cell_type": "code",
   "execution_count": null,
   "id": "c9ed1dff",
   "metadata": {
    "colab": {
     "base_uri": "https://localhost:8080/"
    },
    "executionInfo": {
     "elapsed": 69,
     "status": "ok",
     "timestamp": 1668186521445,
     "user": {
      "displayName": "Kaylie Lau",
      "userId": "01284785813595846851"
     },
     "user_tz": 300
    },
    "id": "c9ed1dff",
    "outputId": "af9da124-d48f-490e-fe4b-f3a798f6cf13"
   },
   "outputs": [
    {
     "name": "stdout",
     "output_type": "stream",
     "text": [
      "212.0\n",
      "12.2\n"
     ]
    }
   ],
   "source": [
    "print(c_to_f(100))\n",
    "print(c_to_f(-11))"
   ]
  },
  {
   "cell_type": "markdown",
   "id": "d0dd42b0",
   "metadata": {
    "id": "d0dd42b0"
   },
   "source": [
    "We can save the output of a function by assigning it to a variable."
   ]
  },
  {
   "cell_type": "code",
   "execution_count": null,
   "id": "f27a7980",
   "metadata": {
    "colab": {
     "base_uri": "https://localhost:8080/"
    },
    "executionInfo": {
     "elapsed": 51,
     "status": "ok",
     "timestamp": 1668186521446,
     "user": {
      "displayName": "Kaylie Lau",
      "userId": "01284785813595846851"
     },
     "user_tz": 300
    },
    "id": "f27a7980",
    "outputId": "78466598-1fa2-443c-98ca-d3bb59737e3f"
   },
   "outputs": [
    {
     "data": {
      "text/plain": [
       "32.0"
      ]
     },
     "execution_count": 32,
     "metadata": {},
     "output_type": "execute_result"
    }
   ],
   "source": [
    "freezing_f = c_to_f(0)\n",
    "freezing_f"
   ]
  },
  {
   "cell_type": "markdown",
   "id": "936d16a9",
   "metadata": {
    "id": "936d16a9"
   },
   "source": [
    "### Multiple parameters\n",
    "\n",
    "Functions can have multiple parameters. In this case, the order that arguments are passed in matters. The first argument corresponds to the first parameter, the second argument to the second parameter, and so on."
   ]
  },
  {
   "cell_type": "code",
   "execution_count": null,
   "id": "e8f57c4f",
   "metadata": {
    "colab": {
     "base_uri": "https://localhost:8080/"
    },
    "executionInfo": {
     "elapsed": 32,
     "status": "ok",
     "timestamp": 1668186521446,
     "user": {
      "displayName": "Kaylie Lau",
      "userId": "01284785813595846851"
     },
     "user_tz": 300
    },
    "id": "e8f57c4f",
    "outputId": "40900394-c817-407d-d331-f7b386d22800"
   },
   "outputs": [
    {
     "name": "stdout",
     "output_type": "stream",
     "text": [
      "0.0\n"
     ]
    }
   ],
   "source": [
    "def divide(dividend, divisor):\n",
    "    return dividend / divisor\n",
    "\n",
    "print(divide(0, 2))"
   ]
  },
  {
   "cell_type": "code",
   "execution_count": null,
   "id": "81d0aa06",
   "metadata": {
    "colab": {
     "base_uri": "https://localhost:8080/",
     "height": 266
    },
    "executionInfo": {
     "elapsed": 267,
     "status": "error",
     "timestamp": 1668186521698,
     "user": {
      "displayName": "Kaylie Lau",
      "userId": "01284785813595846851"
     },
     "user_tz": 300
    },
    "id": "81d0aa06",
    "outputId": "e0b12fa2-8523-4509-802d-dc6b8f377b89"
   },
   "outputs": [
    {
     "ename": "ZeroDivisionError",
     "evalue": "ignored",
     "output_type": "error",
     "traceback": [
      "\u001b[0;31m---------------------------------------------------------------------------\u001b[0m",
      "\u001b[0;31mZeroDivisionError\u001b[0m                         Traceback (most recent call last)",
      "\u001b[0;32m<ipython-input-34-0cdf54a076ec>\u001b[0m in \u001b[0;36m<module>\u001b[0;34m\u001b[0m\n\u001b[0;32m----> 1\u001b[0;31m \u001b[0mprint\u001b[0m\u001b[0;34m(\u001b[0m\u001b[0mdivide\u001b[0m\u001b[0;34m(\u001b[0m\u001b[0;36m2\u001b[0m\u001b[0;34m,\u001b[0m \u001b[0;36m0\u001b[0m\u001b[0;34m)\u001b[0m\u001b[0;34m)\u001b[0m\u001b[0;34m\u001b[0m\u001b[0;34m\u001b[0m\u001b[0m\n\u001b[0m",
      "\u001b[0;32m<ipython-input-33-6404c6c38bcf>\u001b[0m in \u001b[0;36mdivide\u001b[0;34m(dividend, divisor)\u001b[0m\n\u001b[1;32m      1\u001b[0m \u001b[0;32mdef\u001b[0m \u001b[0mdivide\u001b[0m\u001b[0;34m(\u001b[0m\u001b[0mdividend\u001b[0m\u001b[0;34m,\u001b[0m \u001b[0mdivisor\u001b[0m\u001b[0;34m)\u001b[0m\u001b[0;34m:\u001b[0m\u001b[0;34m\u001b[0m\u001b[0;34m\u001b[0m\u001b[0m\n\u001b[0;32m----> 2\u001b[0;31m     \u001b[0;32mreturn\u001b[0m \u001b[0mdividend\u001b[0m \u001b[0;34m/\u001b[0m \u001b[0mdivisor\u001b[0m\u001b[0;34m\u001b[0m\u001b[0;34m\u001b[0m\u001b[0m\n\u001b[0m\u001b[1;32m      3\u001b[0m \u001b[0;34m\u001b[0m\u001b[0m\n\u001b[1;32m      4\u001b[0m \u001b[0mprint\u001b[0m\u001b[0;34m(\u001b[0m\u001b[0mdivide\u001b[0m\u001b[0;34m(\u001b[0m\u001b[0;36m0\u001b[0m\u001b[0;34m,\u001b[0m \u001b[0;36m2\u001b[0m\u001b[0;34m)\u001b[0m\u001b[0;34m)\u001b[0m\u001b[0;34m\u001b[0m\u001b[0;34m\u001b[0m\u001b[0m\n",
      "\u001b[0;31mZeroDivisionError\u001b[0m: division by zero"
     ]
    }
   ],
   "source": [
    "print(divide(2, 0))"
   ]
  },
  {
   "cell_type": "markdown",
   "id": "7f49baa4",
   "metadata": {
    "id": "7f49baa4"
   },
   "source": [
    "### Optional parameters and default arguments\n",
    "\n",
    "Functions can have default values for parameters. This is convenient when there is a commonly used default -- it means we do not have to supply that argument if the default value works for our purposes. To override the default, we can pass in an additional argument. \n",
    "\n",
    "Below, we define a sales tax calculator that uses Ontario's tax rate as the default."
   ]
  },
  {
   "cell_type": "code",
   "execution_count": null,
   "id": "2287bab3",
   "metadata": {
    "colab": {
     "base_uri": "https://localhost:8080/"
    },
    "executionInfo": {
     "elapsed": 175,
     "status": "ok",
     "timestamp": 1668186539101,
     "user": {
      "displayName": "Kaylie Lau",
      "userId": "01284785813595846851"
     },
     "user_tz": 300
    },
    "id": "2287bab3",
    "outputId": "499f2106-bafc-4816-d343-d7355ae0de86"
   },
   "outputs": [
    {
     "name": "stdout",
     "output_type": "stream",
     "text": [
      "0.65\n",
      "0.4\n"
     ]
    }
   ],
   "source": [
    "def calc_sales_tax(price, tax_rate=0.13):\n",
    "    return price * tax_rate\n",
    "\n",
    "print(calc_sales_tax(5))\n",
    "print(calc_sales_tax(5, .08))"
   ]
  },
  {
   "cell_type": "markdown",
   "id": "58e03fa7",
   "metadata": {
    "id": "58e03fa7"
   },
   "source": [
    "### Keyword arguments\n",
    "\n",
    "If there are multiple optional parameters, use _keyword arguments_ to specify which parameter a value should be used for. Using a keyword argument resembles assigning a variable.\n",
    "\n",
    "The function below has multiple optional parameters."
   ]
  },
  {
   "cell_type": "code",
   "execution_count": null,
   "id": "1e81e377",
   "metadata": {
    "id": "1e81e377"
   },
   "outputs": [],
   "source": [
    "def calc_total_bill(price, tax_rate=0.13, tip_rate=0.2):\n",
    "    tax = price * tax_rate\n",
    "    tip = price * tip_rate\n",
    "    return price + tax + tip"
   ]
  },
  {
   "cell_type": "markdown",
   "id": "39510068",
   "metadata": {
    "id": "39510068"
   },
   "source": [
    "Accept all defaults:"
   ]
  },
  {
   "cell_type": "code",
   "execution_count": null,
   "id": "34b595e3",
   "metadata": {
    "colab": {
     "base_uri": "https://localhost:8080/"
    },
    "executionInfo": {
     "elapsed": 39,
     "status": "ok",
     "timestamp": 1668186539474,
     "user": {
      "displayName": "Kaylie Lau",
      "userId": "01284785813595846851"
     },
     "user_tz": 300
    },
    "id": "34b595e3",
    "outputId": "acbc4c6d-06ef-428a-c637-10e91d984e5b"
   },
   "outputs": [
    {
     "data": {
      "text/plain": [
       "133.0"
      ]
     },
     "execution_count": 37,
     "metadata": {},
     "output_type": "execute_result"
    }
   ],
   "source": [
    "calc_total_bill(100)"
   ]
  },
  {
   "cell_type": "markdown",
   "id": "c2485199",
   "metadata": {
    "id": "c2485199"
   },
   "source": [
    "Python assumes the second argument is for the second parameter, `tax_rate`."
   ]
  },
  {
   "cell_type": "code",
   "execution_count": null,
   "id": "bede3708",
   "metadata": {
    "colab": {
     "base_uri": "https://localhost:8080/"
    },
    "executionInfo": {
     "elapsed": 36,
     "status": "ok",
     "timestamp": 1668186539474,
     "user": {
      "displayName": "Kaylie Lau",
      "userId": "01284785813595846851"
     },
     "user_tz": 300
    },
    "id": "bede3708",
    "outputId": "1b824e02-0a22-4ca9-e283-d5e20f185883"
   },
   "outputs": [
    {
     "name": "stdout",
     "output_type": "stream",
     "text": [
      "142.0\n"
     ]
    }
   ],
   "source": [
    "print(calc_total_bill(100, 0.22))"
   ]
  },
  {
   "cell_type": "markdown",
   "id": "a2cffd6f",
   "metadata": {
    "id": "a2cffd6f"
   },
   "source": [
    "Use the `tip_rate` keyword argument to specify that the second argument is not the tax rate."
   ]
  },
  {
   "cell_type": "code",
   "execution_count": null,
   "id": "d1d9f3d2",
   "metadata": {
    "colab": {
     "base_uri": "https://localhost:8080/"
    },
    "executionInfo": {
     "elapsed": 22,
     "status": "ok",
     "timestamp": 1668186539475,
     "user": {
      "displayName": "Kaylie Lau",
      "userId": "01284785813595846851"
     },
     "user_tz": 300
    },
    "id": "d1d9f3d2",
    "outputId": "fac94c47-d3e8-4254-9ecc-47359e3b2db0"
   },
   "outputs": [
    {
     "name": "stdout",
     "output_type": "stream",
     "text": [
      "135.0\n"
     ]
    }
   ],
   "source": [
    "print(calc_total_bill(100, tip_rate=0.22))"
   ]
  },
  {
   "cell_type": "markdown",
   "id": "fc58762b",
   "metadata": {
    "id": "fc58762b"
   },
   "source": [
    "## Documenting functions\n",
    "\n",
    "We can call `help()` on user-defined functions as well as built-in functions. "
   ]
  },
  {
   "cell_type": "code",
   "execution_count": null,
   "id": "8dc69f93",
   "metadata": {
    "colab": {
     "base_uri": "https://localhost:8080/"
    },
    "executionInfo": {
     "elapsed": 464,
     "status": "ok",
     "timestamp": 1668186539933,
     "user": {
      "displayName": "Kaylie Lau",
      "userId": "01284785813595846851"
     },
     "user_tz": 300
    },
    "id": "8dc69f93",
    "outputId": "f792bb65-a58b-455f-9df1-1c465753bd3a"
   },
   "outputs": [
    {
     "name": "stdout",
     "output_type": "stream",
     "text": [
      "Help on function c_to_f in module __main__:\n",
      "\n",
      "c_to_f(degrees_c)\n",
      "\n"
     ]
    }
   ],
   "source": [
    "help(c_to_f)"
   ]
  },
  {
   "cell_type": "markdown",
   "id": "5747c4ed",
   "metadata": {
    "id": "5747c4ed"
   },
   "source": [
    "## Docstrings\n",
    "\n",
    "In order to get useful results, though, a user-defined function needs a docstring. A _docstring_ is a special kind of string, or text data, that describes what a function does. It is the first thing in a function after the definition statement, and it is typically surrounded by triple single or double quotes (`'''` or `\"\"\"`). `help()` looks for a docstring when it is called."
   ]
  },
  {
   "cell_type": "markdown",
   "id": "cedc4bcc",
   "metadata": {
    "id": "cedc4bcc"
   },
   "source": [
    "Let's convert our comment from earlier into a docstring, then try calling `help()` again."
   ]
  },
  {
   "cell_type": "code",
   "execution_count": null,
   "id": "5c55eb30",
   "metadata": {
    "colab": {
     "base_uri": "https://localhost:8080/"
    },
    "executionInfo": {
     "elapsed": 43,
     "status": "ok",
     "timestamp": 1668186539934,
     "user": {
      "displayName": "Kaylie Lau",
      "userId": "01284785813595846851"
     },
     "user_tz": 300
    },
    "id": "5c55eb30",
    "outputId": "225684d4-5e0a-458e-d6b3-25a8f7e0b3c1"
   },
   "outputs": [
    {
     "name": "stdout",
     "output_type": "stream",
     "text": [
      "Help on function c_to_f in module __main__:\n",
      "\n",
      "c_to_f(degrees_c)\n",
      "    Convert degrees from Celsius to Fahrenheit\n",
      "\n"
     ]
    }
   ],
   "source": [
    "def c_to_f(degrees_c):\n",
    "    '''Convert degrees from Celsius to Fahrenheit'''\n",
    "    return ((9 / 5) * degrees_c + 32)\n",
    "\n",
    "help(c_to_f)"
   ]
  },
  {
   "cell_type": "markdown",
   "id": "182f59a6",
   "metadata": {
    "id": "182f59a6"
   },
   "source": [
    "## Structure of a function\n",
    "\n",
    "Now that we've written our first function, let's review the structure.\n",
    "\n",
    "`c_to_f(degrees_c)` is the _function header_. It tells us what the function name and parameters are.\n",
    "\n",
    "`'''Convert degrees from Celsius to Fahrenheit'''` is the _docstring_. It briefly describes what the function does. Docstrings can include more information about the function, such as examples, what types of data are accepted as arguments, or what gets returned.\n",
    "\n",
    "`return ((9 / 5) * degrees_c + 32)` makes up the function _body_, or the code that runs when a function is called. This is typically more than one line of code. The body ends with a `return` statement specifying what the output of the function should be. If no `return` statement is written out, the function will return `None`."
   ]
  },
  {
   "cell_type": "markdown",
   "id": "a243134e",
   "metadata": {
    "id": "a243134e"
   },
   "source": [
    "## Variable Scope\n",
    "\n",
    "We mentioned that parameters were variables used only in functions. This means that the parameter does not exist outside of the function call -- if we try to access `degrees_c` outside of `c_to_f()`, we get a NameError."
   ]
  },
  {
   "cell_type": "code",
   "execution_count": null,
   "id": "3799ebfc",
   "metadata": {
    "colab": {
     "base_uri": "https://localhost:8080/",
     "height": 164
    },
    "executionInfo": {
     "elapsed": 26,
     "status": "error",
     "timestamp": 1668186539934,
     "user": {
      "displayName": "Kaylie Lau",
      "userId": "01284785813595846851"
     },
     "user_tz": 300
    },
    "id": "3799ebfc",
    "outputId": "d6a0adf1-4736-44a3-c1a0-5d9bc8286880"
   },
   "outputs": [
    {
     "ename": "NameError",
     "evalue": "ignored",
     "output_type": "error",
     "traceback": [
      "\u001b[0;31m---------------------------------------------------------------------------\u001b[0m",
      "\u001b[0;31mNameError\u001b[0m                                 Traceback (most recent call last)",
      "\u001b[0;32m<ipython-input-42-2a100ed65105>\u001b[0m in \u001b[0;36m<module>\u001b[0;34m\u001b[0m\n\u001b[0;32m----> 1\u001b[0;31m \u001b[0mdegrees_c\u001b[0m\u001b[0;34m\u001b[0m\u001b[0;34m\u001b[0m\u001b[0m\n\u001b[0m",
      "\u001b[0;31mNameError\u001b[0m: name 'degrees_c' is not defined"
     ]
    }
   ],
   "source": [
    "degrees_c"
   ]
  },
  {
   "cell_type": "markdown",
   "id": "69e2892f",
   "metadata": {
    "id": "69e2892f"
   },
   "source": [
    "Parameters are _locally scoped_ variables. _Scope_ refers to the context in which a variable can be accessed. _Local_ indicates that the variable can only be accessed within the function itself."
   ]
  },
  {
   "cell_type": "markdown",
   "id": "b3bedf20",
   "metadata": {
    "id": "b3bedf20"
   },
   "source": [
    "In contrast, a variable defined outside of a function has _global scope_. It can be accessed from anywhere in the program."
   ]
  },
  {
   "cell_type": "code",
   "execution_count": null,
   "id": "8d6408c9",
   "metadata": {
    "colab": {
     "base_uri": "https://localhost:8080/"
    },
    "executionInfo": {
     "elapsed": 311,
     "status": "ok",
     "timestamp": 1668186552376,
     "user": {
      "displayName": "Kaylie Lau",
      "userId": "01284785813595846851"
     },
     "user_tz": 300
    },
    "id": "8d6408c9",
    "outputId": "718e6ec1-3d8c-491f-a4c5-069dae75edb3"
   },
   "outputs": [
    {
     "name": "stdout",
     "output_type": "stream",
     "text": [
      "100 212.0\n"
     ]
    }
   ],
   "source": [
    "# boiling_c is a global variable\n",
    "boiling_c = 100\n",
    "\n",
    "# boiling_f is too\n",
    "boiling_f = c_to_f(100)\n",
    "\n",
    "print(boiling_c, boiling_f)"
   ]
  },
  {
   "cell_type": "markdown",
   "id": "722d2c13",
   "metadata": {
    "id": "722d2c13"
   },
   "source": [
    "## Function Design Recipe\n",
    "\n",
    "This function design recipe standardizes the steps to write a function.\n",
    "\n",
    "1. Think about what your function does. Come up with a few examples of inputs and outputs.\n",
    "2. Think of a meaningful function name.\n",
    "3. Write thorough function documentation.\n",
    "4. Code the function body.\n",
    "5. Test the function against the examples from step 1."
   ]
  },
  {
   "cell_type": "markdown",
   "id": "c396f70f",
   "metadata": {
    "id": "c396f70f"
   },
   "source": [
    "# Strings"
   ]
  },
  {
   "cell_type": "markdown",
   "id": "ed8b70b9",
   "metadata": {
    "id": "ed8b70b9"
   },
   "source": [
    "## What is a string?\n",
    "\n",
    "`str`, short for _string_, is Python's text data type. Strings are sequences of characters, including digits and symbols. Strings are surrounded by either single (`'`) or double (`\"`) quotes. Which one to use is a matter of preference, but they must be the consistent around a string and should be consistent across our code. The presence of apostrophes, single quotes, or double quotes in our text may require us to use a different quote option, though."
   ]
  },
  {
   "cell_type": "markdown",
   "id": "9e2bdd59",
   "metadata": {
    "id": "9e2bdd59"
   },
   "source": [
    "## String examples"
   ]
  },
  {
   "cell_type": "code",
   "execution_count": null,
   "id": "12eb8ee1",
   "metadata": {
    "colab": {
     "base_uri": "https://localhost:8080/",
     "height": 37
    },
    "executionInfo": {
     "elapsed": 183,
     "status": "ok",
     "timestamp": 1668186552870,
     "user": {
      "displayName": "Kaylie Lau",
      "userId": "01284785813595846851"
     },
     "user_tz": 300
    },
    "id": "12eb8ee1",
    "outputId": "2e972871-ebb8-413f-f15c-66e84a1c2cbf"
   },
   "outputs": [
    {
     "data": {
      "application/vnd.google.colaboratory.intrinsic+json": {
       "type": "string"
      },
      "text/plain": [
       "'This is a string'"
      ]
     },
     "execution_count": 44,
     "metadata": {},
     "output_type": "execute_result"
    }
   ],
   "source": [
    "'This is a string'"
   ]
  },
  {
   "cell_type": "code",
   "execution_count": null,
   "id": "4ac33807",
   "metadata": {
    "colab": {
     "base_uri": "https://localhost:8080/",
     "height": 37
    },
    "executionInfo": {
     "elapsed": 22,
     "status": "ok",
     "timestamp": 1668186552871,
     "user": {
      "displayName": "Kaylie Lau",
      "userId": "01284785813595846851"
     },
     "user_tz": 300
    },
    "id": "4ac33807",
    "outputId": "bbc822d0-5b85-409b-86ae-3bea05174c43"
   },
   "outputs": [
    {
     "data": {
      "application/vnd.google.colaboratory.intrinsic+json": {
       "type": "string"
      },
      "text/plain": [
       "'So is this'"
      ]
     },
     "execution_count": 45,
     "metadata": {},
     "output_type": "execute_result"
    }
   ],
   "source": [
    "\"So is this\""
   ]
  },
  {
   "cell_type": "code",
   "execution_count": null,
   "id": "352e8161",
   "metadata": {
    "colab": {
     "base_uri": "https://localhost:8080/",
     "height": 130
    },
    "executionInfo": {
     "elapsed": 20,
     "status": "error",
     "timestamp": 1668186552871,
     "user": {
      "displayName": "Kaylie Lau",
      "userId": "01284785813595846851"
     },
     "user_tz": 300
    },
    "id": "352e8161",
    "outputId": "6d7037a3-1287-488b-b0b0-6f458f33fa3e"
   },
   "outputs": [
    {
     "ename": "SyntaxError",
     "evalue": "ignored",
     "output_type": "error",
     "traceback": [
      "\u001b[0;36m  File \u001b[0;32m\"<ipython-input-46-0bc84b501df1>\"\u001b[0;36m, line \u001b[0;32m1\u001b[0m\n\u001b[0;31m    \"these quotes do not match'\u001b[0m\n\u001b[0m                               ^\u001b[0m\n\u001b[0;31mSyntaxError\u001b[0m\u001b[0;31m:\u001b[0m EOL while scanning string literal\n"
     ]
    }
   ],
   "source": [
    "\"these quotes do not match'"
   ]
  },
  {
   "cell_type": "code",
   "execution_count": null,
   "id": "b555fd3c",
   "metadata": {
    "colab": {
     "base_uri": "https://localhost:8080/",
     "height": 130
    },
    "executionInfo": {
     "elapsed": 19,
     "status": "error",
     "timestamp": 1668186552872,
     "user": {
      "displayName": "Kaylie Lau",
      "userId": "01284785813595846851"
     },
     "user_tz": 300
    },
    "id": "b555fd3c",
    "outputId": "3c0ce415-753f-49b9-b556-7837ebc8af05"
   },
   "outputs": [
    {
     "ename": "SyntaxError",
     "evalue": "ignored",
     "output_type": "error",
     "traceback": [
      "\u001b[0;36m  File \u001b[0;32m\"<ipython-input-47-9c964f737ce5>\"\u001b[0;36m, line \u001b[0;32m1\u001b[0m\n\u001b[0;31m    'Let's see if this works\u001b[0m\n\u001b[0m         ^\u001b[0m\n\u001b[0;31mSyntaxError\u001b[0m\u001b[0;31m:\u001b[0m invalid syntax\n"
     ]
    }
   ],
   "source": [
    "'Let's see if this works"
   ]
  },
  {
   "cell_type": "code",
   "execution_count": null,
   "id": "5d695d24",
   "metadata": {
    "colab": {
     "base_uri": "https://localhost:8080/",
     "height": 37
    },
    "executionInfo": {
     "elapsed": 256,
     "status": "ok",
     "timestamp": 1668186563707,
     "user": {
      "displayName": "Kaylie Lau",
      "userId": "01284785813595846851"
     },
     "user_tz": 300
    },
    "id": "5d695d24",
    "outputId": "7fbcdc21-4ddc-42da-aa6c-e3d49c9dc0a2"
   },
   "outputs": [
    {
     "data": {
      "application/vnd.google.colaboratory.intrinsic+json": {
       "type": "string"
      },
      "text/plain": [
       "\"Let's see if this works now\""
      ]
     },
     "execution_count": 48,
     "metadata": {},
     "output_type": "execute_result"
    }
   ],
   "source": [
    "# use double quotes to avoid the error\n",
    "\"Let's see if this works now\""
   ]
  },
  {
   "cell_type": "markdown",
   "id": "e1404f58",
   "metadata": {
    "id": "e1404f58"
   },
   "source": [
    "## Multiline strings\n",
    "\n",
    "If we want a string to span multiple lines of code, we need to wrap it in triple quotations (`'''` or `\"\"\"`). We saw this before with our docstrings!"
   ]
  },
  {
   "cell_type": "code",
   "execution_count": null,
   "id": "af1875b1",
   "metadata": {
    "colab": {
     "base_uri": "https://localhost:8080/",
     "height": 37
    },
    "executionInfo": {
     "elapsed": 10,
     "status": "ok",
     "timestamp": 1668186563901,
     "user": {
      "displayName": "Kaylie Lau",
      "userId": "01284785813595846851"
     },
     "user_tz": 300
    },
    "id": "af1875b1",
    "outputId": "7bdfc394-03e6-4b71-920f-e45c3c09307d"
   },
   "outputs": [
    {
     "data": {
      "application/vnd.google.colaboratory.intrinsic+json": {
       "type": "string"
      },
      "text/plain": [
       "'\\nI am a multiline string\\n\\nI\\'m very useful for documenting functions \\nand for storing longer texts.\\n\\nAnd you don\\'t have to worry about apostrophes or \"quote\"s!\\n'"
      ]
     },
     "execution_count": 49,
     "metadata": {},
     "output_type": "execute_result"
    }
   ],
   "source": [
    "'''\n",
    "I am a multiline string\n",
    "\n",
    "I'm very useful for documenting functions \n",
    "and for storing longer texts.\n",
    "\n",
    "And you don't have to worry about apostrophes or \"quote\"s!\n",
    "'''"
   ]
  },
  {
   "cell_type": "markdown",
   "id": "b19547d6",
   "metadata": {
    "id": "b19547d6"
   },
   "source": [
    "## Escape sequences\n",
    "\n",
    "Where did those `\\n` characters come from and where did our line breaks go in that last string? `\\n` is an _escape sequence_, a combination of characters that means something else. Here, it means \"new line\", not literally \"\\n\". More generally, the backslash (`\\`) is an escape character that can be used to indicate that the next character should be treated differently."
   ]
  },
  {
   "cell_type": "markdown",
   "id": "b6191db7",
   "metadata": {
    "id": "b6191db7"
   },
   "source": [
    "### Escape sequences\n",
    "|Escape sequence|Description|\n",
    "|-----|-----|\n",
    "|\\\\'|Single quote|\n",
    "|\\\\\"|Double quote|\n",
    "|\\\\\\\\|Backslash|\n",
    "|\\t|Tab|\n",
    "|\\n|Newline|\n",
    "|\\r|Carriage return|"
   ]
  },
  {
   "cell_type": "code",
   "execution_count": null,
   "id": "f798ecd5",
   "metadata": {
    "colab": {
     "base_uri": "https://localhost:8080/",
     "height": 1000
    },
    "executionInfo": {
     "elapsed": 209,
     "status": "ok",
     "timestamp": 1668186564103,
     "user": {
      "displayName": "Kaylie Lau",
      "userId": "01284785813595846851"
     },
     "user_tz": 300
    },
    "id": "f798ecd5",
    "outputId": "e281309b-0c1f-43cd-8237-251ec53fbef3"
   },
   "outputs": [
    {
     "data": {
      "application/vnd.google.colaboratory.intrinsic+json": {
       "type": "string"
      },
      "text/plain": [
       "\"This string won't result in an error thanks to the escape sequence\""
      ]
     },
     "execution_count": 50,
     "metadata": {},
     "output_type": "execute_result"
    }
   ],
   "source": [
    "'This string won\\'t result in an error thanks to the escape sequence'"
   ]
  },
  {
   "cell_type": "markdown",
   "id": "11052d21",
   "metadata": {
    "id": "11052d21"
   },
   "source": [
    "## Working with strings and overloading\n",
    "\n",
    "Some arithmetic and comparison operators also work with strings, though their meaning changes. When an operator does different things depending on the data provided, we say that it is _overloaded_. It's important to understand what type of data is being used with an overloaded operator so that the results are as expected."
   ]
  },
  {
   "cell_type": "markdown",
   "id": "1732a7cd",
   "metadata": {
    "id": "1732a7cd"
   },
   "source": [
    "### Strings and arithmetic operators"
   ]
  },
  {
   "cell_type": "code",
   "execution_count": null,
   "id": "4e36d1f4",
   "metadata": {
    "colab": {
     "base_uri": "https://localhost:8080/",
     "height": 37
    },
    "executionInfo": {
     "elapsed": 32,
     "status": "ok",
     "timestamp": 1668186564104,
     "user": {
      "displayName": "Kaylie Lau",
      "userId": "01284785813595846851"
     },
     "user_tz": 300
    },
    "id": "4e36d1f4",
    "outputId": "16332124-05ef-4713-d6c3-cc2a067aebb7"
   },
   "outputs": [
    {
     "data": {
      "application/vnd.google.colaboratory.intrinsic+json": {
       "type": "string"
      },
      "text/plain": [
       "'hello world'"
      ]
     },
     "execution_count": 51,
     "metadata": {},
     "output_type": "execute_result"
    }
   ],
   "source": [
    "# adding strings together concatenates them\n",
    "'hello' + ' ' + 'world'"
   ]
  },
  {
   "cell_type": "code",
   "execution_count": null,
   "id": "69d734a3",
   "metadata": {
    "colab": {
     "base_uri": "https://localhost:8080/",
     "height": 37
    },
    "executionInfo": {
     "elapsed": 31,
     "status": "ok",
     "timestamp": 1668186564105,
     "user": {
      "displayName": "Kaylie Lau",
      "userId": "01284785813595846851"
     },
     "user_tz": 300
    },
    "id": "69d734a3",
    "outputId": "34b73738-68a0-4cd5-82ba-5ce9e1217626"
   },
   "outputs": [
    {
     "data": {
      "application/vnd.google.colaboratory.intrinsic+json": {
       "type": "string"
      },
      "text/plain": [
       "'hahaha'"
      ]
     },
     "execution_count": 52,
     "metadata": {},
     "output_type": "execute_result"
    }
   ],
   "source": [
    "# multiplying a string repeats it\n",
    "'ha' * 3"
   ]
  },
  {
   "cell_type": "code",
   "execution_count": null,
   "id": "444cd7f1",
   "metadata": {
    "colab": {
     "base_uri": "https://localhost:8080/",
     "height": 181
    },
    "executionInfo": {
     "elapsed": 29,
     "status": "error",
     "timestamp": 1668186564105,
     "user": {
      "displayName": "Kaylie Lau",
      "userId": "01284785813595846851"
     },
     "user_tz": 300
    },
    "id": "444cd7f1",
    "outputId": "78e7de90-787d-4f16-ee0a-b35852fbc89e"
   },
   "outputs": [
    {
     "ename": "TypeError",
     "evalue": "ignored",
     "output_type": "error",
     "traceback": [
      "\u001b[0;31m---------------------------------------------------------------------------\u001b[0m",
      "\u001b[0;31mTypeError\u001b[0m                                 Traceback (most recent call last)",
      "\u001b[0;32m<ipython-input-53-ef61714c60fa>\u001b[0m in \u001b[0;36m<module>\u001b[0;34m\u001b[0m\n\u001b[1;32m      1\u001b[0m \u001b[0;31m# mixing data types results in an error\u001b[0m\u001b[0;34m\u001b[0m\u001b[0;34m\u001b[0m\u001b[0;34m\u001b[0m\u001b[0m\n\u001b[0;32m----> 2\u001b[0;31m \u001b[0;34m'The year is '\u001b[0m \u001b[0;34m+\u001b[0m \u001b[0;36m2020\u001b[0m\u001b[0;34m\u001b[0m\u001b[0;34m\u001b[0m\u001b[0m\n\u001b[0m",
      "\u001b[0;31mTypeError\u001b[0m: can only concatenate str (not \"int\") to str"
     ]
    }
   ],
   "source": [
    "# mixing data types results in an error\n",
    "'The year is ' + 2020"
   ]
  },
  {
   "cell_type": "markdown",
   "id": "beca20a7",
   "metadata": {
    "id": "beca20a7"
   },
   "source": [
    "### Strings and comparison operators\n",
    "\n",
    "We can use the `==` and `!=` operators to compare strings, as well as to compare strings and numbers."
   ]
  },
  {
   "cell_type": "code",
   "execution_count": null,
   "id": "b922b788",
   "metadata": {
    "colab": {
     "base_uri": "https://localhost:8080/"
    },
    "executionInfo": {
     "elapsed": 172,
     "status": "ok",
     "timestamp": 1668186572660,
     "user": {
      "displayName": "Kaylie Lau",
      "userId": "01284785813595846851"
     },
     "user_tz": 300
    },
    "id": "b922b788",
    "outputId": "7f452b09-fb63-451b-d62f-34a8450682d2"
   },
   "outputs": [
    {
     "data": {
      "text/plain": [
       "False"
      ]
     },
     "execution_count": 54,
     "metadata": {},
     "output_type": "execute_result"
    }
   ],
   "source": [
    "'apple' == 'Apple'"
   ]
  },
  {
   "cell_type": "code",
   "execution_count": null,
   "id": "5f0f4faa",
   "metadata": {
    "colab": {
     "base_uri": "https://localhost:8080/"
    },
    "executionInfo": {
     "elapsed": 292,
     "status": "ok",
     "timestamp": 1668186573180,
     "user": {
      "displayName": "Kaylie Lau",
      "userId": "01284785813595846851"
     },
     "user_tz": 300
    },
    "id": "5f0f4faa",
    "outputId": "c5f1ce34-1b12-459b-d8e8-509494cb681b"
   },
   "outputs": [
    {
     "data": {
      "text/plain": [
       "True"
      ]
     },
     "execution_count": 55,
     "metadata": {},
     "output_type": "execute_result"
    }
   ],
   "source": [
    "'apple' != 'Apple'"
   ]
  },
  {
   "cell_type": "code",
   "execution_count": null,
   "id": "1158f00c",
   "metadata": {
    "colab": {
     "base_uri": "https://localhost:8080/"
    },
    "executionInfo": {
     "elapsed": 106,
     "status": "ok",
     "timestamp": 1668186573181,
     "user": {
      "displayName": "Kaylie Lau",
      "userId": "01284785813595846851"
     },
     "user_tz": 300
    },
    "id": "1158f00c",
    "outputId": "1f516bfc-efe5-4de0-a144-54382b554838"
   },
   "outputs": [
    {
     "data": {
      "text/plain": [
       "False"
      ]
     },
     "execution_count": 56,
     "metadata": {},
     "output_type": "execute_result"
    }
   ],
   "source": [
    "'20' == 20"
   ]
  },
  {
   "cell_type": "markdown",
   "id": "fb078997",
   "metadata": {
    "id": "fb078997"
   },
   "source": [
    "## Strings within strings\n",
    "\n",
    "\n",
    "We can extract a piece of a string by _slicing_ it. For example, if we want to get initials from a first name and last name, we may slice the first letter of each.\n",
    "\n",
    "To slice a string, we add square brackets (`[]`) to the end of it. To get a single character, we then put the _index_ or position, of the character we want to get.\n",
    "\n",
    "To get multiple characters, we put the starting index of our slice, then a colon (`:`) and finally the index where we want to end our slice. **Strings in Python are _zero-indexed_, meaning that the first letter is at index 0, not 1.** Slices do not include the character at the ending index position."
   ]
  },
  {
   "cell_type": "markdown",
   "id": "f07856bf",
   "metadata": {
    "id": "f07856bf"
   },
   "source": [
    "### Slicing single characters"
   ]
  },
  {
   "cell_type": "code",
   "execution_count": null,
   "id": "c231d8f4",
   "metadata": {
    "colab": {
     "base_uri": "https://localhost:8080/"
    },
    "executionInfo": {
     "elapsed": 90,
     "status": "ok",
     "timestamp": 1668186573182,
     "user": {
      "displayName": "Kaylie Lau",
      "userId": "01284785813595846851"
     },
     "user_tz": 300
    },
    "id": "c231d8f4",
    "outputId": "609c2ab2-e195-4b64-e55a-e071296e0e6f"
   },
   "outputs": [
    {
     "name": "stdout",
     "output_type": "stream",
     "text": [
      "Initials are A L\n"
     ]
    }
   ],
   "source": [
    "first_name = 'Ada'\n",
    "last_name = 'Lovelace'\n",
    "\n",
    "# print initials\n",
    "print('Initials are', first_name[0], last_name[0])"
   ]
  },
  {
   "cell_type": "markdown",
   "id": "b2ad7ff0",
   "metadata": {
    "id": "b2ad7ff0"
   },
   "source": [
    "If we don't provide a starting index, our string slice will go from the beginning to the ending index. Similarly, if we don't provide an ending index, our string slice will go from the starting index to the end."
   ]
  },
  {
   "cell_type": "code",
   "execution_count": null,
   "id": "2a8ab4a2",
   "metadata": {
    "colab": {
     "base_uri": "https://localhost:8080/"
    },
    "executionInfo": {
     "elapsed": 75,
     "status": "ok",
     "timestamp": 1668186573183,
     "user": {
      "displayName": "Kaylie Lau",
      "userId": "01284785813595846851"
     },
     "user_tz": 300
    },
    "id": "2a8ab4a2",
    "outputId": "e41a2a69-7e7b-4a5e-8ffe-7f612335390e"
   },
   "outputs": [
    {
     "name": "stdout",
     "output_type": "stream",
     "text": [
      "A lace\n"
     ]
    }
   ],
   "source": [
    "print(first_name[:1], last_name[4:])"
   ]
  },
  {
   "cell_type": "code",
   "execution_count": null,
   "id": "474b7246",
   "metadata": {
    "colab": {
     "base_uri": "https://localhost:8080/",
     "height": 37
    },
    "executionInfo": {
     "elapsed": 60,
     "status": "ok",
     "timestamp": 1668186573184,
     "user": {
      "displayName": "Kaylie Lau",
      "userId": "01284785813595846851"
     },
     "user_tz": 300
    },
    "id": "474b7246",
    "outputId": "428764b5-de0f-4b00-e036-82a4ba08cc10"
   },
   "outputs": [
    {
     "data": {
      "application/vnd.google.colaboratory.intrinsic+json": {
       "type": "string"
      },
      "text/plain": [
       "'555'"
      ]
     },
     "execution_count": 59,
     "metadata": {},
     "output_type": "execute_result"
    }
   ],
   "source": [
    "phone_number = '+1 555-123-4567'\n",
    "\n",
    "# get the area code\n",
    "phone_number[3:6]"
   ]
  },
  {
   "cell_type": "markdown",
   "id": "6c8352ae",
   "metadata": {
    "id": "6c8352ae"
   },
   "source": [
    "We can even use negative indices. Here, we slice from the fourth-to-last character to the end."
   ]
  },
  {
   "cell_type": "code",
   "execution_count": null,
   "id": "41ee9c63",
   "metadata": {
    "colab": {
     "base_uri": "https://localhost:8080/",
     "height": 37
    },
    "executionInfo": {
     "elapsed": 59,
     "status": "ok",
     "timestamp": 1668186573185,
     "user": {
      "displayName": "Kaylie Lau",
      "userId": "01284785813595846851"
     },
     "user_tz": 300
    },
    "id": "41ee9c63",
    "outputId": "7a118d6e-63a0-45b5-d4da-4f86fd32e1b4"
   },
   "outputs": [
    {
     "data": {
      "application/vnd.google.colaboratory.intrinsic+json": {
       "type": "string"
      },
      "text/plain": [
       "'4567'"
      ]
     },
     "execution_count": 60,
     "metadata": {},
     "output_type": "execute_result"
    }
   ],
   "source": [
    "phone_number[-4:]"
   ]
  },
  {
   "cell_type": "markdown",
   "id": "11b03c70",
   "metadata": {
    "id": "11b03c70"
   },
   "source": [
    "### Checking for strings\n",
    "\n",
    "We can also check for character sequences, or _substrings_ within a string. There are multiple ways to do this, but one of the simplest is with the `in` operator."
   ]
  },
  {
   "cell_type": "code",
   "execution_count": null,
   "id": "052d6727",
   "metadata": {
    "id": "052d6727"
   },
   "outputs": [],
   "source": [
    "job_qualifications = 'The successful applicant will be proficient in R, Python, SQL, statistics, and data visualization.'"
   ]
  },
  {
   "cell_type": "code",
   "execution_count": null,
   "id": "22261d43",
   "metadata": {
    "colab": {
     "base_uri": "https://localhost:8080/"
    },
    "executionInfo": {
     "elapsed": 58,
     "status": "ok",
     "timestamp": 1668186573186,
     "user": {
      "displayName": "Kaylie Lau",
      "userId": "01284785813595846851"
     },
     "user_tz": 300
    },
    "id": "22261d43",
    "outputId": "be780b10-ed13-4981-a0af-83e08256e002"
   },
   "outputs": [
    {
     "data": {
      "text/plain": [
       "True"
      ]
     },
     "execution_count": 62,
     "metadata": {},
     "output_type": "execute_result"
    }
   ],
   "source": [
    "'R' in job_qualifications"
   ]
  },
  {
   "cell_type": "code",
   "execution_count": null,
   "id": "0345fd67",
   "metadata": {
    "colab": {
     "base_uri": "https://localhost:8080/"
    },
    "executionInfo": {
     "elapsed": 43,
     "status": "ok",
     "timestamp": 1668186573187,
     "user": {
      "displayName": "Kaylie Lau",
      "userId": "01284785813595846851"
     },
     "user_tz": 300
    },
    "id": "0345fd67",
    "outputId": "99b7b7ca-d807-4859-a5c3-75024e411b9b"
   },
   "outputs": [
    {
     "data": {
      "text/plain": [
       "False"
      ]
     },
     "execution_count": 63,
     "metadata": {},
     "output_type": "execute_result"
    }
   ],
   "source": [
    "' r ' in job_qualifications"
   ]
  },
  {
   "cell_type": "code",
   "execution_count": null,
   "id": "c54f65ef",
   "metadata": {
    "colab": {
     "base_uri": "https://localhost:8080/"
    },
    "executionInfo": {
     "elapsed": 193,
     "status": "ok",
     "timestamp": 1668186573351,
     "user": {
      "displayName": "Kaylie Lau",
      "userId": "01284785813595846851"
     },
     "user_tz": 300
    },
    "id": "c54f65ef",
    "outputId": "9608ea38-1804-4583-b238-3298effe1184"
   },
   "outputs": [
    {
     "data": {
      "text/plain": [
       "False"
      ]
     },
     "execution_count": 64,
     "metadata": {},
     "output_type": "execute_result"
    }
   ],
   "source": [
    "'JavaScript' in job_qualifications"
   ]
  },
  {
   "cell_type": "markdown",
   "id": "94b61ac0",
   "metadata": {
    "id": "94b61ac0"
   },
   "source": [
    "## Converting between types\n",
    "\n",
    "Sometimes, we'll get string data that should be treated as a number, or vice versa. We can use the `str()`, `int()` and `float()` functions to convert between data types. If the argument to the type conversion function is not valid in the target data type, Python will produce an error."
   ]
  },
  {
   "cell_type": "markdown",
   "id": "edb37e4d",
   "metadata": {
    "id": "edb37e4d"
   },
   "source": [
    "#### String to integer"
   ]
  },
  {
   "cell_type": "code",
   "execution_count": null,
   "id": "5af84a29",
   "metadata": {
    "colab": {
     "base_uri": "https://localhost:8080/"
    },
    "executionInfo": {
     "elapsed": 17,
     "status": "ok",
     "timestamp": 1668186573352,
     "user": {
      "displayName": "Kaylie Lau",
      "userId": "01284785813595846851"
     },
     "user_tz": 300
    },
    "id": "5af84a29",
    "outputId": "5f9cfcb7-4ed9-4c57-d4f6-77d903a5df28"
   },
   "outputs": [
    {
     "data": {
      "text/plain": [
       "17"
      ]
     },
     "execution_count": 65,
     "metadata": {},
     "output_type": "execute_result"
    }
   ],
   "source": [
    "int('17')"
   ]
  },
  {
   "cell_type": "code",
   "execution_count": null,
   "id": "fbf1894e",
   "metadata": {
    "colab": {
     "base_uri": "https://localhost:8080/",
     "height": 164
    },
    "executionInfo": {
     "elapsed": 17,
     "status": "error",
     "timestamp": 1668186573354,
     "user": {
      "displayName": "Kaylie Lau",
      "userId": "01284785813595846851"
     },
     "user_tz": 300
    },
    "id": "fbf1894e",
    "outputId": "5042d3f1-6bef-4ea2-cf36-3a33fdaaf1b1"
   },
   "outputs": [
    {
     "ename": "ValueError",
     "evalue": "ignored",
     "output_type": "error",
     "traceback": [
      "\u001b[0;31m---------------------------------------------------------------------------\u001b[0m",
      "\u001b[0;31mValueError\u001b[0m                                Traceback (most recent call last)",
      "\u001b[0;32m<ipython-input-66-b12f21fb3f27>\u001b[0m in \u001b[0;36m<module>\u001b[0;34m\u001b[0m\n\u001b[0;32m----> 1\u001b[0;31m \u001b[0mint\u001b[0m\u001b[0;34m(\u001b[0m\u001b[0;34m'17.4'\u001b[0m\u001b[0;34m)\u001b[0m\u001b[0;34m\u001b[0m\u001b[0;34m\u001b[0m\u001b[0m\n\u001b[0m",
      "\u001b[0;31mValueError\u001b[0m: invalid literal for int() with base 10: '17.4'"
     ]
    }
   ],
   "source": [
    "int('17.4')"
   ]
  },
  {
   "cell_type": "code",
   "execution_count": null,
   "id": "ed698bf3",
   "metadata": {
    "id": "ed698bf3"
   },
   "outputs": [],
   "source": [
    "int('me')"
   ]
  },
  {
   "cell_type": "markdown",
   "id": "5fc3ae9b",
   "metadata": {
    "id": "5fc3ae9b"
   },
   "source": [
    "#### String to float"
   ]
  },
  {
   "cell_type": "code",
   "execution_count": null,
   "id": "516644f7",
   "metadata": {
    "colab": {
     "base_uri": "https://localhost:8080/"
    },
    "executionInfo": {
     "elapsed": 146,
     "status": "ok",
     "timestamp": 1668186599621,
     "user": {
      "displayName": "Kaylie Lau",
      "userId": "01284785813595846851"
     },
     "user_tz": 300
    },
    "id": "516644f7",
    "outputId": "f1128726-96f8-4b21-ba26-174cc3fe69cb"
   },
   "outputs": [
    {
     "data": {
      "text/plain": [
       "892.0"
      ]
     },
     "execution_count": 67,
     "metadata": {},
     "output_type": "execute_result"
    }
   ],
   "source": [
    "float('892')"
   ]
  },
  {
   "cell_type": "code",
   "execution_count": null,
   "id": "f9013665",
   "metadata": {
    "colab": {
     "base_uri": "https://localhost:8080/",
     "height": 164
    },
    "executionInfo": {
     "elapsed": 8,
     "status": "error",
     "timestamp": 1668186599763,
     "user": {
      "displayName": "Kaylie Lau",
      "userId": "01284785813595846851"
     },
     "user_tz": 300
    },
    "id": "f9013665",
    "outputId": "87d41e7c-34e9-40eb-83da-c376df79d4e4"
   },
   "outputs": [
    {
     "ename": "ValueError",
     "evalue": "ignored",
     "output_type": "error",
     "traceback": [
      "\u001b[0;31m---------------------------------------------------------------------------\u001b[0m",
      "\u001b[0;31mValueError\u001b[0m                                Traceback (most recent call last)",
      "\u001b[0;32m<ipython-input-68-05dc2118e60e>\u001b[0m in \u001b[0;36m<module>\u001b[0;34m\u001b[0m\n\u001b[0;32m----> 1\u001b[0;31m \u001b[0mfloat\u001b[0m\u001b[0;34m(\u001b[0m\u001b[0;34m'you'\u001b[0m\u001b[0;34m)\u001b[0m\u001b[0;34m\u001b[0m\u001b[0;34m\u001b[0m\u001b[0m\n\u001b[0m",
      "\u001b[0;31mValueError\u001b[0m: could not convert string to float: 'you'"
     ]
    }
   ],
   "source": [
    "float('you')"
   ]
  },
  {
   "cell_type": "markdown",
   "id": "018ce02a",
   "metadata": {
    "id": "018ce02a"
   },
   "source": [
    "#### Float and int to string"
   ]
  },
  {
   "cell_type": "code",
   "execution_count": null,
   "id": "d750cc4f",
   "metadata": {
    "colab": {
     "base_uri": "https://localhost:8080/",
     "height": 37
    },
    "executionInfo": {
     "elapsed": 134,
     "status": "ok",
     "timestamp": 1668186605405,
     "user": {
      "displayName": "Kaylie Lau",
      "userId": "01284785813595846851"
     },
     "user_tz": 300
    },
    "id": "d750cc4f",
    "outputId": "5b491a93-4d6d-412b-b1fe-a2eb0d68311b"
   },
   "outputs": [
    {
     "data": {
      "application/vnd.google.colaboratory.intrinsic+json": {
       "type": "string"
      },
      "text/plain": [
       "'37.5'"
      ]
     },
     "execution_count": 69,
     "metadata": {},
     "output_type": "execute_result"
    }
   ],
   "source": [
    "str(37.5)"
   ]
  },
  {
   "cell_type": "code",
   "execution_count": null,
   "id": "40d832c1",
   "metadata": {
    "colab": {
     "base_uri": "https://localhost:8080/",
     "height": 37
    },
    "executionInfo": {
     "elapsed": 7,
     "status": "ok",
     "timestamp": 1668186605547,
     "user": {
      "displayName": "Kaylie Lau",
      "userId": "01284785813595846851"
     },
     "user_tz": 300
    },
    "id": "40d832c1",
    "outputId": "824ad5d5-4c03-43ea-9593-5b57250e6eea"
   },
   "outputs": [
    {
     "data": {
      "application/vnd.google.colaboratory.intrinsic+json": {
       "type": "string"
      },
      "text/plain": [
       "'20'"
      ]
     },
     "execution_count": 70,
     "metadata": {},
     "output_type": "execute_result"
    }
   ],
   "source": [
    "str(20)"
   ]
  },
  {
   "cell_type": "code",
   "execution_count": null,
   "id": "bdc67737",
   "metadata": {
    "colab": {
     "base_uri": "https://localhost:8080/",
     "height": 37
    },
    "executionInfo": {
     "elapsed": 614,
     "status": "ok",
     "timestamp": 1668186606156,
     "user": {
      "displayName": "Kaylie Lau",
      "userId": "01284785813595846851"
     },
     "user_tz": 300
    },
    "id": "bdc67737",
    "outputId": "b8956eb7-14c4-4b3f-bd66-650e156c6103"
   },
   "outputs": [
    {
     "data": {
      "application/vnd.google.colaboratory.intrinsic+json": {
       "type": "string"
      },
      "text/plain": [
       "'2037.5'"
      ]
     },
     "execution_count": 71,
     "metadata": {},
     "output_type": "execute_result"
    }
   ],
   "source": [
    "'20' + str(37.5)"
   ]
  },
  {
   "cell_type": "markdown",
   "id": "b334b4fe",
   "metadata": {
    "id": "b334b4fe"
   },
   "source": [
    "## Strings and functions\n",
    "\n",
    "String data works with some of the functions we've seen before, like `print()`, as well as with built-in functions like `len()`, which tells us how long the argument we pass in is."
   ]
  },
  {
   "cell_type": "code",
   "execution_count": null,
   "id": "2887ca72",
   "metadata": {
    "colab": {
     "base_uri": "https://localhost:8080/"
    },
    "executionInfo": {
     "elapsed": 240,
     "status": "ok",
     "timestamp": 1668186606157,
     "user": {
      "displayName": "Kaylie Lau",
      "userId": "01284785813595846851"
     },
     "user_tz": 300
    },
    "id": "2887ca72",
    "outputId": "f1e53ee6-19a5-4b86-efbb-d137f2e5c381"
   },
   "outputs": [
    {
     "name": "stdout",
     "output_type": "stream",
     "text": [
      "1 fish, 2 fish\n"
     ]
    }
   ],
   "source": [
    "# We can print strings, ints, and floats together\n",
    "print(1, 'fish,', 2, 'fish')"
   ]
  },
  {
   "cell_type": "code",
   "execution_count": null,
   "id": "9fe0a453",
   "metadata": {
    "colab": {
     "base_uri": "https://localhost:8080/"
    },
    "executionInfo": {
     "elapsed": 220,
     "status": "ok",
     "timestamp": 1668186606158,
     "user": {
      "displayName": "Kaylie Lau",
      "userId": "01284785813595846851"
     },
     "user_tz": 300
    },
    "id": "9fe0a453",
    "outputId": "d74202ce-8607-4fa9-9256-5ba6cc1d5ae3"
   },
   "outputs": [
    {
     "data": {
      "text/plain": [
       "80"
      ]
     },
     "execution_count": 73,
     "metadata": {},
     "output_type": "execute_result"
    }
   ],
   "source": [
    "len('Sometimes we type long-winded sentences to meet word counts or character counts.')"
   ]
  },
  {
   "cell_type": "markdown",
   "id": "8af90510",
   "metadata": {
    "id": "8af90510"
   },
   "source": [
    "## String methods\n",
    "\n",
    "Strings in Python also have _methods_, which are functions that work only for a specific type of data. We'll learn about methods in more depth later. The key points here are:\n",
    "\n",
    "- String methods work only on strings -- not on integers, floats, or booleans\n",
    "- Methods are called differently from other functions"
   ]
  },
  {
   "cell_type": "markdown",
   "id": "dc5f7eed",
   "metadata": {
    "id": "dc5f7eed"
   },
   "source": [
    "To use a string method, we specify a string, then follow it with a period and the method being called."
   ]
  },
  {
   "cell_type": "code",
   "execution_count": null,
   "id": "03b3d6a1",
   "metadata": {
    "colab": {
     "base_uri": "https://localhost:8080/",
     "height": 37
    },
    "executionInfo": {
     "elapsed": 202,
     "status": "ok",
     "timestamp": 1668186606158,
     "user": {
      "displayName": "Kaylie Lau",
      "userId": "01284785813595846851"
     },
     "user_tz": 300
    },
    "id": "03b3d6a1",
    "outputId": "f3be8201-25e5-47d1-8296-93ac457a7fc6"
   },
   "outputs": [
    {
     "data": {
      "application/vnd.google.colaboratory.intrinsic+json": {
       "type": "string"
      },
      "text/plain": [
       "'I AM NOT YELLING'"
      ]
     },
     "execution_count": 74,
     "metadata": {},
     "output_type": "execute_result"
    }
   ],
   "source": [
    "# convert a string to all caps\n",
    "'I am not yelling'.upper()"
   ]
  },
  {
   "cell_type": "code",
   "execution_count": null,
   "id": "afe58878",
   "metadata": {
    "colab": {
     "base_uri": "https://localhost:8080/"
    },
    "executionInfo": {
     "elapsed": 202,
     "status": "ok",
     "timestamp": 1668186606159,
     "user": {
      "displayName": "Kaylie Lau",
      "userId": "01284785813595846851"
     },
     "user_tz": 300
    },
    "id": "afe58878",
    "outputId": "862a7b57-543b-432a-af11-2d75f10aa24f"
   },
   "outputs": [
    {
     "data": {
      "text/plain": [
       "0"
      ]
     },
     "execution_count": 75,
     "metadata": {},
     "output_type": "execute_result"
    }
   ],
   "source": [
    "# count the 'e's\n",
    "'This string is unusual'.count('e')"
   ]
  },
  {
   "cell_type": "code",
   "execution_count": null,
   "id": "4411add4",
   "metadata": {
    "colab": {
     "base_uri": "https://localhost:8080/"
    },
    "executionInfo": {
     "elapsed": 51,
     "status": "ok",
     "timestamp": 1668186606159,
     "user": {
      "displayName": "Kaylie Lau",
      "userId": "01284785813595846851"
     },
     "user_tz": 300
    },
    "id": "4411add4",
    "outputId": "8f46c5b3-0dc7-4933-df88-9f76968b0383"
   },
   "outputs": [
    {
     "data": {
      "text/plain": [
       "True"
      ]
     },
     "execution_count": 76,
     "metadata": {},
     "output_type": "execute_result"
    }
   ],
   "source": [
    "# check if a string ends with a substring\n",
    "'file_name.csv'.endswith('.csv')"
   ]
  },
  {
   "cell_type": "code",
   "execution_count": null,
   "id": "cc09e74b",
   "metadata": {
    "colab": {
     "base_uri": "https://localhost:8080/",
     "height": 37
    },
    "executionInfo": {
     "elapsed": 35,
     "status": "ok",
     "timestamp": 1668186606160,
     "user": {
      "displayName": "Kaylie Lau",
      "userId": "01284785813595846851"
     },
     "user_tz": 300
    },
    "id": "cc09e74b",
    "outputId": "b7aa44e8-788b-477b-b6ab-fb1dba1f0053"
   },
   "outputs": [
    {
     "data": {
      "application/vnd.google.colaboratory.intrinsic+json": {
       "type": "string"
      },
      "text/plain": [
       "'long_file_name_with_spaces.csv'"
      ]
     },
     "execution_count": 77,
     "metadata": {},
     "output_type": "execute_result"
    }
   ],
   "source": [
    "# replace text\n",
    "'long file name with spaces.csv'.replace(' ', '_')"
   ]
  },
  {
   "cell_type": "markdown",
   "id": "1d548a4e",
   "metadata": {
    "id": "1d548a4e"
   },
   "source": [
    "For a full list of string methods, see the [Python documentation](https://docs.python.org/3/library/stdtypes.html#string-methods)."
   ]
  },
  {
   "cell_type": "markdown",
   "id": "131e451a",
   "metadata": {
    "id": "131e451a"
   },
   "source": [
    "### Formatting Strings\n",
    "\n",
    "The `format()` string method makes it easier to combine text with other data. We can create text templates with curly braces (`{}`), then pass values in."
   ]
  },
  {
   "cell_type": "code",
   "execution_count": null,
   "id": "c6cc75d8",
   "metadata": {
    "colab": {
     "base_uri": "https://localhost:8080/",
     "height": 37
    },
    "executionInfo": {
     "elapsed": 35,
     "status": "ok",
     "timestamp": 1668186606161,
     "user": {
      "displayName": "Kaylie Lau",
      "userId": "01284785813595846851"
     },
     "user_tz": 300
    },
    "id": "c6cc75d8",
    "outputId": "91c3deaa-80c7-415f-d20b-0f2033f9264b"
   },
   "outputs": [
    {
     "data": {
      "application/vnd.google.colaboratory.intrinsic+json": {
       "type": "string"
      },
      "text/plain": [
       "\"Ada Lovelace's initials are A. L.\""
      ]
     },
     "execution_count": 78,
     "metadata": {},
     "output_type": "execute_result"
    }
   ],
   "source": [
    "'Ada Lovelace\\'s initials are {}. {}.'.format('Ada'[0], 'Lovelace'[0])"
   ]
  },
  {
   "cell_type": "markdown",
   "id": "a0cd99a3",
   "metadata": {
    "id": "a0cd99a3"
   },
   "source": [
    "If we preface the string with `f`, we can pass values directly into the curly braces."
   ]
  },
  {
   "cell_type": "code",
   "execution_count": null,
   "id": "4ae6edf7",
   "metadata": {
    "colab": {
     "base_uri": "https://localhost:8080/",
     "height": 37
    },
    "executionInfo": {
     "elapsed": 35,
     "status": "ok",
     "timestamp": 1668186606162,
     "user": {
      "displayName": "Kaylie Lau",
      "userId": "01284785813595846851"
     },
     "user_tz": 300
    },
    "id": "4ae6edf7",
    "outputId": "fd5a6ec1-a197-4e60-9c83-582c27b97538"
   },
   "outputs": [
    {
     "data": {
      "application/vnd.google.colaboratory.intrinsic+json": {
       "type": "string"
      },
      "text/plain": [
       "\"Ada Lovelace's initials are A. L.\""
      ]
     },
     "execution_count": 79,
     "metadata": {},
     "output_type": "execute_result"
    }
   ],
   "source": [
    "f'Ada Lovelace\\'s initials are {\"Ada\"[0]}. {\"Lovelace\"[0]}.'"
   ]
  },
  {
   "cell_type": "markdown",
   "id": "4090d1f7",
   "metadata": {
    "id": "4090d1f7"
   },
   "source": [
    "When in doubt, we can call for `help()`!"
   ]
  },
  {
   "cell_type": "code",
   "execution_count": null,
   "id": "f663acf3",
   "metadata": {
    "colab": {
     "base_uri": "https://localhost:8080/"
    },
    "executionInfo": {
     "elapsed": 33,
     "status": "ok",
     "timestamp": 1668186606162,
     "user": {
      "displayName": "Kaylie Lau",
      "userId": "01284785813595846851"
     },
     "user_tz": 300
    },
    "id": "f663acf3",
    "outputId": "ac4e5236-0c0d-432d-84d4-cdd424d54f3c"
   },
   "outputs": [
    {
     "name": "stdout",
     "output_type": "stream",
     "text": [
      "Help on method_descriptor:\n",
      "\n",
      "lower(self, /)\n",
      "    Return a copy of the string converted to lowercase.\n",
      "\n"
     ]
    }
   ],
   "source": [
    "help(str.lower)"
   ]
  },
  {
   "cell_type": "markdown",
   "id": "5645a11c",
   "metadata": {
    "id": "5645a11c"
   },
   "source": [
    "# Input"
   ]
  },
  {
   "cell_type": "markdown",
   "id": "3ac38293",
   "metadata": {
    "id": "3ac38293"
   },
   "source": [
    "## Getting user input\n",
    "\n",
    "Sometimes, we may want to work with data given to us by the user running the program. One way to get user input is with the `input()` function, which prompts the user and returns their response as a string. `input()` takes a prompt string as an argument.\n",
    "\n",
    "Be careful when using `input()` -- there's no guarantee that the user will answer in a way you expect!"
   ]
  },
  {
   "cell_type": "code",
   "execution_count": null,
   "id": "69f1ae7d",
   "metadata": {
    "colab": {
     "base_uri": "https://localhost:8080/",
     "height": 54
    },
    "executionInfo": {
     "elapsed": 3805,
     "status": "ok",
     "timestamp": 1668186609950,
     "user": {
      "displayName": "Kaylie Lau",
      "userId": "01284785813595846851"
     },
     "user_tz": 300
    },
    "id": "69f1ae7d",
    "outputId": "cde5971e-fa4e-4ccb-e33f-87145abb3480"
   },
   "outputs": [
    {
     "name": "stdout",
     "output_type": "stream",
     "text": [
      "How old are you? 24\n"
     ]
    },
    {
     "data": {
      "application/vnd.google.colaboratory.intrinsic+json": {
       "type": "string"
      },
      "text/plain": [
       "'24'"
      ]
     },
     "execution_count": 81,
     "metadata": {},
     "output_type": "execute_result"
    }
   ],
   "source": [
    "age = input('How old are you? ')\n",
    "age"
   ]
  },
  {
   "cell_type": "code",
   "execution_count": null,
   "id": "b81e701c",
   "metadata": {
    "colab": {
     "base_uri": "https://localhost:8080/"
    },
    "executionInfo": {
     "elapsed": 9,
     "status": "ok",
     "timestamp": 1668186609951,
     "user": {
      "displayName": "Kaylie Lau",
      "userId": "01284785813595846851"
     },
     "user_tz": 300
    },
    "id": "b81e701c",
    "outputId": "04be7420-3917-44da-9245-8ca00efe33b2"
   },
   "outputs": [
    {
     "name": "stdout",
     "output_type": "stream",
     "text": [
      "Next birthday you will be 25\n"
     ]
    }
   ],
   "source": [
    "# to do arithmetic on an input, we need to convert it\n",
    "age_next_bday = int(age) + 1\n",
    "print('Next birthday you will be {}'.format(age_next_bday))"
   ]
  },
  {
   "cell_type": "markdown",
   "id": "0d1c483c",
   "metadata": {
    "id": "0d1c483c"
   },
   "source": [
    "# References"
   ]
  },
  {
   "cell_type": "markdown",
   "id": "c43689bc",
   "metadata": {
    "id": "c43689bc"
   },
   "source": [
    "- Bostroem, Bekolay, and Staneva (eds): \"Software Carpentry: Programming with Python\"  Version 2016.06, June 2016, https://github.com/swcarpentry/python-novice-inflammation, 10.5281/zenodo.57492.\n",
    "- Chapters 1, 2, 3, and 4, Gries, Campbell, and Montojo, 2017, *Practical Programming: An Introduction to Computer Science Using Python 3.6*\n",
    "- Chapter 8, Adhikari, DeNero, and Wagner, 2021, *Computational and Inferential Thinking: The Foundations of Data Science*\n",
    "- \"String methods\", Python Software Foundation, *Python Language Reference, version 3.* Available at https://docs.python.org/3/library/stdtypes.html#string-methods"
   ]
  }
 ],
 "metadata": {
  "celltoolbar": "Slideshow",
  "colab": {
   "collapsed_sections": [
    "0294d7fe",
    "b3f69e98",
    "cd134d80",
    "16f27979",
    "f1caca54",
    "3a700ac7",
    "182f59a6",
    "722d2c13",
    "ed8b70b9",
    "b6191db7"
   ],
   "provenance": []
  },
  "kernelspec": {
   "display_name": "Python 3",
   "language": "python",
   "name": "python3"
  },
  "language_info": {
   "codemirror_mode": {
    "name": "ipython",
    "version": 3
   },
   "file_extension": ".py",
   "mimetype": "text/x-python",
   "name": "python",
   "nbconvert_exporter": "python",
   "pygments_lexer": "ipython3",
   "version": "3.8.8"
  },
  "rise": {
   "scroll": true,
   "theme": "solarized",
   "transition": "none"
  }
 },
 "nbformat": 4,
 "nbformat_minor": 5
}
