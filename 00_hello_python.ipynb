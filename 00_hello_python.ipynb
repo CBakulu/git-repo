{
  "cells": [
    {
      "cell_type": "markdown",
      "id": "40d3f376",
      "metadata": {
        "id": "40d3f376"
      },
      "source": [
        "# Hello, Python\n",
        "\n",
        "## Introduction to Python  \n",
        "Data Sciences Institute, University of Toronto\n",
        "\n",
        "Instructor: Kaylie Lau | TA: Salaar Liaqat \n",
        "\n",
        "November - December 2022"
      ]
    },
    {
      "cell_type": "markdown",
      "id": "e5e5ab47",
      "metadata": {
        "id": "e5e5ab47"
      },
      "source": [
        "# Contents:\n",
        "\n",
        "1. Welcome!\n",
        "2. Course Logistics\n",
        "3. Key Texts\n",
        "4. Setup\n",
        "5. Course Tour"
      ]
    },
    {
      "cell_type": "markdown",
      "id": "73f58102",
      "metadata": {
        "id": "73f58102"
      },
      "source": [
        "# Welcome!\n",
        "\n",
        "The course introduces the Python programming language starting from its basics, working up to loading, manipulating, and visualizing real datasets with popular data science libraries. It was designed by the University of Toronto's Data Science Institute for those who have a degree in something other than Computer Science/Statistics who are looking to enhance their data science skills for their career."
      ]
    },
    {
      "cell_type": "markdown",
      "id": "deec149f",
      "metadata": {
        "id": "deec149f"
      },
      "source": [
        "## Land Acknowledgement: \n",
        "\n",
        "We wish to acknowledge this land on which the University of Toronto operates. For thousands of years it has been the traditional land of the Huron-Wendat, the Seneca, and the Mississaugas of the Credit River. Today, this meeting place is still the home to many Indigenous people from across Turtle Island and we are grateful to have the opportunity to work on this land."
      ]
    },
    {
      "cell_type": "markdown",
      "id": "35623595",
      "metadata": {
        "id": "35623595"
      },
      "source": [
        "# Course Logistics"
      ]
    },
    {
      "cell_type": "markdown",
      "id": "6e110f37",
      "metadata": {
        "id": "6e110f37"
      },
      "source": [
        "## Course contacts\n",
        "\n",
        "**Instructor: Kaylie Lau (she/her)**  \n",
        "Email: kaylie.lau@mail.utoronto.ca\n",
        "\n",
        "\n",
        "**TA: Salaar Liaqat (he/him)**  \n",
        "Email: s.liaqat@mail.utoronto.ca"
      ]
    },
    {
      "cell_type": "markdown",
      "id": "c0e5e1d5",
      "metadata": {
        "id": "c0e5e1d5"
      },
      "source": [
        "## Pre-Course Work\n",
        "Prior to the first class please:\n",
        "1. Create a Google account that can use Google Colab:\n",
        "\t1. Go to https://colab.research.google.com/. In the upper left corner, click File, then New Notebook\n",
        "\t2. Enter `!python --version` in the code cell, then hit ctrl+enter to run the cell and confirm that your Python version is 3.6 or above.\n",
        "\t* If you are having issues with the set-up, the TA will be available to help with this **Monday 28 November from 5pm-6pm**.\n",
        "2. Complete the pre-course survey: https://forms.gle/rcVCTfZasarXAGQg9\n"
      ]
    },
    {
      "cell_type": "markdown",
      "id": "7da4d8a1",
      "metadata": {
        "id": "7da4d8a1"
      },
      "source": [
        "## Design\n",
        "The course runs synchronously over Zoom. It consists of three classes a week for three weeks, or nine classes total. Classes are 6 PM - 8 PM EDT on Mondays and Thursdays, and 9 AM - 12 PM EDT on Saturdays. Being mindful of online fatigue, there will be one or two breaks during each class where students are encouraged to stretch, grab a drink and snacks, or ask any additional questions.\n",
        " \n",
        "\n",
        "Tutorial sessions with a TA will also be offered over Zoom. These will take place from 5 PM - 6 PM EDT on Mondays and Thursdays, and 8:30 AM - 9 AM EDT and 12 PM - 12:30 PM EDT on Saturdays."
      ]
    },
    {
      "cell_type": "markdown",
      "source": [
        "## Schedule\n",
        "Schedule is tentative and may be modified as needed. Learners will be notified of schedule changes.\n",
        "* **Day 1 (Monday 28 November, 6pm-8pm):** Getting Started I (Introduction; Python fundamentals)\n",
        "* **Day 2 (Thursday 1 December, 6pm-8pm):** Getting Started II (Python fundamentals)\n",
        "* **Day 3 (Saturday 3 December, 9am-noon):** Dealing with Reality (Control flow using conditionals and loops; Lists, tuples, sets, and dictionaries)\n",
        "* **Day 4 (Monday 5 December, 6pm-8pm):** In/Out (Modules; Working with files; Object-oriented programming)\n",
        "* **Day 5 (Thursday 8 December, 6pm-8pm):** Doing More with Data I (`numpy`)\n",
        "* **Day 6 (Saturday 10 December, 9am-noon):** Doing More with Data II (`pandas`)\n",
        "* **Day 7 (Monday 12 December, 6pm-8pm):** Visualizing Data (`matplotlib`; `seaborn`; `plotly`)\n",
        "* **Day 8 (Thursday 15 December, 6pm-8pm):** Professional skills: Industry case study - Hareem Naveed\n",
        "* **Day 9 (Saturday 17 December, 9am-noon):** Review and Ethics"
      ],
      "metadata": {
        "id": "KQUA8VThM4JV"
      },
      "id": "KQUA8VThM4JV"
    },
    {
      "cell_type": "markdown",
      "id": "003cd01a",
      "metadata": {
        "id": "003cd01a"
      },
      "source": [
        "## Prerequisites\n",
        "Learners are expected to know how to operate a computer and are also expected to be familiar with the parts of a data table or spreadsheet, summary statistics, and basic data visualizations. No prior programming knowledge is required."
      ]
    },
    {
      "cell_type": "markdown",
      "id": "a9ec5245",
      "metadata": {
        "id": "a9ec5245"
      },
      "source": [
        "## Expectations\n",
        "The course is a live-coding class. Learners are expected to follow along with the coding in their own Python notebooks. Learners should be active participants while coding and are encouraged to ask questions throughout. Although slides will be available, they should be referenced before or after class, as class will be dedicated to coding with the instructor.\n",
        " \n",
        "### Technology requirements\n",
        "* Learners must have an internet connection and a computer to participate in online activities\n",
        "* Learners must have a Google account that can use [Google Colab](https://colab.research.google.com/)"
      ]
    },
    {
      "cell_type": "markdown",
      "source": [
        "## Policies\n",
        "* **Accessiblity:** We want to provide an accessible learning environment for all. If there is something we can do to make this course more accessible to you, please let us know.\n",
        "* **Course communications:** Communications take place over email. Please include \"DSI-Python\" or similar in the subject line, e.g. \"DSI-Python: pandas question\"\n",
        "* **Camera:** Keeping your camera on is optional.\n",
        "* **Microphone:** Please keep microphones muted unless you need to speak. Please indicate your name before speaking as some Zoom configurations make it hard to tell who is talking!\n",
        "* **Assessment:** There will be homework which is **not** graded, but highly reccomended, and there will be three assignments which **are** graded.\n"
      ],
      "metadata": {
        "id": "EFVeHat6OMhL"
      },
      "id": "EFVeHat6OMhL"
    },
    {
      "cell_type": "markdown",
      "id": "8a5d4910",
      "metadata": {
        "id": "8a5d4910"
      },
      "source": [
        "## Key Texts\n",
        "\n",
        "- Gries, P., Campbell, J., Montojo, J., & Coron, T. (2017). *Practical programming: An introduction to computer science using python 3.6.* \n",
        "- Adhikari, DeNero, and Wagner, (2021). *Computational and Inferential Thinking: The Foundations of Data Science.*\n",
        "- Thomas, R. (2021). *Avoiding Data Disasters*. https://www.fast.ai/2021/11/04/data-disasters/\n",
        "- Boykis, V. (2019). *Neural nets are just people all the way down.* https://vicki.substack.com/p/neural-nets-are-just-people-all-the\n"
      ]
    },
    {
      "cell_type": "markdown",
      "source": [
        "## All course materials can be found on GitHub: https://github.com/UofT-DSI/03-intro_python.git"
      ],
      "metadata": {
        "id": "uaXzZKButBL7"
      },
      "id": "uaXzZKButBL7"
    },
    {
      "cell_type": "markdown",
      "id": "92258b2e",
      "metadata": {
        "id": "92258b2e"
      },
      "source": [
        "# Google Colab\n",
        "Jupyter Notebooks are web applications that lets us combine pieces of executable code, text, images, and visualizations in a single document, or notebook. _Google Colab_ is a Jupyter Notebook environment hosted on the cloud -- that is, on Google's servers. Google Colab provides a standardized notebook environment, with common data science libraries already installed."
      ]
    },
    {
      "cell_type": "markdown",
      "id": "d96e1b69",
      "metadata": {
        "id": "d96e1b69"
      },
      "source": [
        "Sections of a notebook are called cells. Cells can be run independently of each other, and in any order.\n",
        "\n",
        "## Check your Python version\n",
        "\n",
        "Try adding and running your first code cells.\n",
        "\n",
        "1. Add a cell by clicking the **+ Code**.\n",
        "2. Enter the following: `!python --version`.\n",
        "3. Press `ctrl` + `enter` to run the cell.\n",
        "\n",
        "You should see Python 3.6 or higher."
      ]
    },
    {
      "cell_type": "code",
      "execution_count": null,
      "id": "278b7e4e",
      "metadata": {
        "colab": {
          "base_uri": "https://localhost:8080/"
        },
        "id": "278b7e4e",
        "outputId": "53880bb0-dc21-4c54-c41c-586d12839329"
      },
      "outputs": [
        {
          "output_type": "stream",
          "name": "stdout",
          "text": [
            "Python 3.7.15\n"
          ]
        }
      ],
      "source": [
        "!python --version"
      ]
    },
    {
      "cell_type": "markdown",
      "id": "08006e18",
      "metadata": {
        "id": "08006e18"
      },
      "source": [
        "## Adding text\n",
        "\n",
        "Notebooks use markdown, a markup language, for formatting text. IBM publishes a [Jupyter-specific markdown cheat sheet](https://www.ibm.com/docs/en/watson-studio-local/1.2.3?topic=notebooks-markdown-jupyter-cheatsheet).\n",
        "\n",
        "To add a text cell:\n",
        "1. Click **+ Text**\n",
        "2. Add some text. When you are done editing, press `ctrl` + `enter` to run the cell and format your text."
      ]
    },
    {
      "cell_type": "markdown",
      "id": "792466ab",
      "metadata": {
        "id": "792466ab"
      },
      "source": [
        "# Course Tour"
      ]
    },
    {
      "cell_type": "markdown",
      "id": "51f0ccf3",
      "metadata": {
        "id": "51f0ccf3"
      },
      "source": [
        "## Getting Started\n",
        "\n",
        "What are the core features of Python?\n",
        "\n",
        "### Topics\n",
        "* Data types and variables\n",
        "* Expressions and statements\n",
        "* Functions\n",
        "* Dealing with errors\n",
        "* Comments and readability"
      ]
    },
    {
      "cell_type": "markdown",
      "id": "e7b999b1",
      "metadata": {
        "id": "e7b999b1"
      },
      "source": [
        "### What is Python?\n",
        "\n",
        "Python is a general-purpose programming language first released in 1991. It has since become a popular language for data science, thanks to an enthusiastic community and a large ecosystem of code libraries and tools that make it easier to perform common tasks throughout the data science life cycle."
      ]
    },
    {
      "cell_type": "markdown",
      "id": "0fc986f8",
      "metadata": {
        "id": "0fc986f8"
      },
      "source": [
        "```python\n",
        "# create a variable\n",
        "degrees_celsius = 25\n",
        "\n",
        "# convert to Fahrenheit\n",
        "(9 / 5) * degrees_celsius + 32\n",
        "\n",
        "# make it a function\n",
        "def c_to_f(degrees_c):\n",
        "    return (9 / 5) * degrees_c + 32\n",
        "```"
      ]
    },
    {
      "cell_type": "markdown",
      "id": "868274b6",
      "metadata": {
        "id": "868274b6"
      },
      "source": [
        "## Dealing with Reality\n",
        "\n",
        "What tools does Python give us for working with collections of values and for writing programs that change their behaviour based on data?\n",
        "\n",
        "### Topics\n",
        "* Logic\n",
        "* Conditionals\n",
        "* Iteration\n",
        "* Sequences and collections of values"
      ]
    },
    {
      "cell_type": "markdown",
      "id": "b467b4f1",
      "metadata": {
        "id": "b467b4f1"
      },
      "source": [
        "```python \n",
        "numbers = [2, 52, 18, 27, 5, 1937]\n",
        "\n",
        "for number in numbers:\n",
        "    if number % 2 == 0:\n",
        "        print('Even')\n",
        "    else:\n",
        "        print('Odd')\n",
        "```"
      ]
    },
    {
      "cell_type": "markdown",
      "id": "21e10c6d",
      "metadata": {
        "id": "21e10c6d"
      },
      "source": [
        "## In/Out\n",
        "\n",
        "How can we bring in outside code and data to accomplish tasks? How can we get data out of our programs?\n",
        "\n",
        "### Topics\n",
        "* Modules\n",
        "* Working with files\n",
        "* Object-oriented programming"
      ]
    },
    {
      "cell_type": "markdown",
      "id": "54cc9c05",
      "metadata": {
        "id": "54cc9c05"
      },
      "source": [
        "```python\n",
        "import os\n",
        "\n",
        "for f in os.listdir('folder'):\n",
        "    if f.endswith('.csv'):\n",
        "        # process file\n",
        "```"
      ]
    },
    {
      "cell_type": "markdown",
      "id": "1f112d0a",
      "metadata": {
        "id": "1f112d0a"
      },
      "source": [
        "## Doing More with Data\n",
        "\n",
        "How can we work with real data for analysis?\n",
        "\n",
        "### Topics\n",
        "* `numpy` and `pandas`\n",
        "* Loading tabular data\n",
        "* Exploring data\n",
        "* Wrangling data\n",
        "* Reshaping and combining datasets"
      ]
    },
    {
      "cell_type": "code",
      "execution_count": null,
      "id": "87969905",
      "metadata": {
        "colab": {
          "base_uri": "https://localhost:8080/",
          "height": 204
        },
        "id": "87969905",
        "outputId": "3e357c81-8ac8-42ac-a694-16942cf3ffa2"
      },
      "outputs": [
        {
          "output_type": "execute_result",
          "data": {
            "text/plain": [
              "                Characteristic City of Toronto\n",
              "0         Neighbourhood Number             NaN\n",
              "1         TSNS2020 Designation             NaN\n",
              "2             Population, 2016       2,731,571\n",
              "3             Population, 2011       2,615,060\n",
              "4  Population Change 2011-2016           4.50%"
            ],
            "text/html": [
              "\n",
              "  <div id=\"df-8d135e5b-0231-4482-b5d5-e1c864accc7f\">\n",
              "    <div class=\"colab-df-container\">\n",
              "      <div>\n",
              "<style scoped>\n",
              "    .dataframe tbody tr th:only-of-type {\n",
              "        vertical-align: middle;\n",
              "    }\n",
              "\n",
              "    .dataframe tbody tr th {\n",
              "        vertical-align: top;\n",
              "    }\n",
              "\n",
              "    .dataframe thead th {\n",
              "        text-align: right;\n",
              "    }\n",
              "</style>\n",
              "<table border=\"1\" class=\"dataframe\">\n",
              "  <thead>\n",
              "    <tr style=\"text-align: right;\">\n",
              "      <th></th>\n",
              "      <th>Characteristic</th>\n",
              "      <th>City of Toronto</th>\n",
              "    </tr>\n",
              "  </thead>\n",
              "  <tbody>\n",
              "    <tr>\n",
              "      <th>0</th>\n",
              "      <td>Neighbourhood Number</td>\n",
              "      <td>NaN</td>\n",
              "    </tr>\n",
              "    <tr>\n",
              "      <th>1</th>\n",
              "      <td>TSNS2020 Designation</td>\n",
              "      <td>NaN</td>\n",
              "    </tr>\n",
              "    <tr>\n",
              "      <th>2</th>\n",
              "      <td>Population, 2016</td>\n",
              "      <td>2,731,571</td>\n",
              "    </tr>\n",
              "    <tr>\n",
              "      <th>3</th>\n",
              "      <td>Population, 2011</td>\n",
              "      <td>2,615,060</td>\n",
              "    </tr>\n",
              "    <tr>\n",
              "      <th>4</th>\n",
              "      <td>Population Change 2011-2016</td>\n",
              "      <td>4.50%</td>\n",
              "    </tr>\n",
              "  </tbody>\n",
              "</table>\n",
              "</div>\n",
              "      <button class=\"colab-df-convert\" onclick=\"convertToInteractive('df-8d135e5b-0231-4482-b5d5-e1c864accc7f')\"\n",
              "              title=\"Convert this dataframe to an interactive table.\"\n",
              "              style=\"display:none;\">\n",
              "        \n",
              "  <svg xmlns=\"http://www.w3.org/2000/svg\" height=\"24px\"viewBox=\"0 0 24 24\"\n",
              "       width=\"24px\">\n",
              "    <path d=\"M0 0h24v24H0V0z\" fill=\"none\"/>\n",
              "    <path d=\"M18.56 5.44l.94 2.06.94-2.06 2.06-.94-2.06-.94-.94-2.06-.94 2.06-2.06.94zm-11 1L8.5 8.5l.94-2.06 2.06-.94-2.06-.94L8.5 2.5l-.94 2.06-2.06.94zm10 10l.94 2.06.94-2.06 2.06-.94-2.06-.94-.94-2.06-.94 2.06-2.06.94z\"/><path d=\"M17.41 7.96l-1.37-1.37c-.4-.4-.92-.59-1.43-.59-.52 0-1.04.2-1.43.59L10.3 9.45l-7.72 7.72c-.78.78-.78 2.05 0 2.83L4 21.41c.39.39.9.59 1.41.59.51 0 1.02-.2 1.41-.59l7.78-7.78 2.81-2.81c.8-.78.8-2.07 0-2.86zM5.41 20L4 18.59l7.72-7.72 1.47 1.35L5.41 20z\"/>\n",
              "  </svg>\n",
              "      </button>\n",
              "      \n",
              "  <style>\n",
              "    .colab-df-container {\n",
              "      display:flex;\n",
              "      flex-wrap:wrap;\n",
              "      gap: 12px;\n",
              "    }\n",
              "\n",
              "    .colab-df-convert {\n",
              "      background-color: #E8F0FE;\n",
              "      border: none;\n",
              "      border-radius: 50%;\n",
              "      cursor: pointer;\n",
              "      display: none;\n",
              "      fill: #1967D2;\n",
              "      height: 32px;\n",
              "      padding: 0 0 0 0;\n",
              "      width: 32px;\n",
              "    }\n",
              "\n",
              "    .colab-df-convert:hover {\n",
              "      background-color: #E2EBFA;\n",
              "      box-shadow: 0px 1px 2px rgba(60, 64, 67, 0.3), 0px 1px 3px 1px rgba(60, 64, 67, 0.15);\n",
              "      fill: #174EA6;\n",
              "    }\n",
              "\n",
              "    [theme=dark] .colab-df-convert {\n",
              "      background-color: #3B4455;\n",
              "      fill: #D2E3FC;\n",
              "    }\n",
              "\n",
              "    [theme=dark] .colab-df-convert:hover {\n",
              "      background-color: #434B5C;\n",
              "      box-shadow: 0px 1px 3px 1px rgba(0, 0, 0, 0.15);\n",
              "      filter: drop-shadow(0px 1px 2px rgba(0, 0, 0, 0.3));\n",
              "      fill: #FFFFFF;\n",
              "    }\n",
              "  </style>\n",
              "\n",
              "      <script>\n",
              "        const buttonEl =\n",
              "          document.querySelector('#df-8d135e5b-0231-4482-b5d5-e1c864accc7f button.colab-df-convert');\n",
              "        buttonEl.style.display =\n",
              "          google.colab.kernel.accessAllowed ? 'block' : 'none';\n",
              "\n",
              "        async function convertToInteractive(key) {\n",
              "          const element = document.querySelector('#df-8d135e5b-0231-4482-b5d5-e1c864accc7f');\n",
              "          const dataTable =\n",
              "            await google.colab.kernel.invokeFunction('convertToInteractive',\n",
              "                                                     [key], {});\n",
              "          if (!dataTable) return;\n",
              "\n",
              "          const docLinkHtml = 'Like what you see? Visit the ' +\n",
              "            '<a target=\"_blank\" href=https://colab.research.google.com/notebooks/data_table.ipynb>data table notebook</a>'\n",
              "            + ' to learn more about interactive tables.';\n",
              "          element.innerHTML = '';\n",
              "          dataTable['output_type'] = 'display_data';\n",
              "          await google.colab.output.renderOutput(dataTable, element);\n",
              "          const docLink = document.createElement('div');\n",
              "          docLink.innerHTML = docLinkHtml;\n",
              "          element.appendChild(docLink);\n",
              "        }\n",
              "      </script>\n",
              "    </div>\n",
              "  </div>\n",
              "  "
            ]
          },
          "metadata": {},
          "execution_count": 2
        }
      ],
      "source": [
        "import pandas as pd\n",
        "\n",
        "neighbourhoods = pd.read_csv('/content/data/neighbourhood-profiles-2016-140-model.csv')\n",
        "neighbourhoods[['Characteristic', 'City of Toronto']].head()"
      ]
    },
    {
      "cell_type": "markdown",
      "id": "979ff54a",
      "metadata": {
        "id": "979ff54a"
      },
      "source": [
        "## Visualizing Data\n",
        "\n",
        "How do we create visualizations in Python?\n",
        "\n",
        "### Topics\n",
        "* `matplotlib`, `seaborn` and `plotly`\n",
        "* Bar charts, histograms, scatterplots, line charts\n",
        "* Faceting and layering"
      ]
    },
    {
      "cell_type": "code",
      "execution_count": null,
      "id": "c9ff385c",
      "metadata": {
        "id": "c9ff385c"
      },
      "outputs": [],
      "source": [
        "neighbourhoods = (neighbourhoods\n",
        "                  .query('Characteristic == \"Population, 2016\"')\n",
        "                  .drop(columns=['_id', \n",
        "                                 'Category', \n",
        "                                 'Topic', \n",
        "                                 'Data Source', \n",
        "                                 'City of Toronto'])\n",
        "                  .melt(id_vars=['Characteristic'],\n",
        "                        var_name='Neighbourhood',\n",
        "                        value_name='Population, 2016'))\n",
        "neighbourhoods['Population, 2016'] = neighbourhoods['Population, 2016'].str.replace(',', '')\n",
        "neighbourhoods['Population, 2016'] = pd.to_numeric(neighbourhoods['Population, 2016'])\n",
        "neighbourhoods = neighbourhoods.sort_values(by='Population, 2016', ascending=False)"
      ]
    },
    {
      "cell_type": "code",
      "execution_count": null,
      "id": "6b0f225e",
      "metadata": {
        "colab": {
          "base_uri": "https://localhost:8080/",
          "height": 322
        },
        "id": "6b0f225e",
        "outputId": "c0c77846-1789-40ff-bdeb-4388f1085f59"
      },
      "outputs": [
        {
          "output_type": "execute_result",
          "data": {
            "text/plain": [
              "Text(0.5, 1.0, 'Biggest Toronto Neighbourhoods by Population')"
            ]
          },
          "metadata": {},
          "execution_count": 4
        },
        {
          "output_type": "display_data",
          "data": {
            "text/plain": [
              "<Figure size 432x288 with 1 Axes>"
            ],
            "image/png": "[encoded data removed]"
          },
          "metadata": {}
        }
      ],
      "source": [
        "import seaborn as sns\n",
        "\n",
        "sns.set_theme()\n",
        "\n",
        "(sns.barplot(data=neighbourhoods.head(10), \n",
        "            y='Neighbourhood', \n",
        "            x='Population, 2016')\n",
        "    .set_title('Biggest Toronto Neighbourhoods by Population',\n",
        "              fontdict={'fontsize': 18}))"
      ]
    },
    {
      "cell_type": "markdown",
      "id": "337958a7",
      "metadata": {
        "id": "337958a7"
      },
      "source": [
        "## Do It Again\n",
        "\n",
        "How can we make our work easier to reproduce and/or maintain?\n",
        "\n",
        "### Topics\n",
        "* Environments\n",
        "* Testing and debugging\n",
        "* Moving beyond notebooks"
      ]
    },
    {
      "cell_type": "code",
      "execution_count": null,
      "id": "8fdc27ff",
      "metadata": {
        "colab": {
          "base_uri": "https://localhost:8080/"
        },
        "id": "8fdc27ff",
        "outputId": "798b4a02-0628-4b4f-c39b-1197a19656e7"
      },
      "outputs": [
        {
          "output_type": "stream",
          "name": "stderr",
          "text": [
            "\n",
            "PYDEV DEBUGGER WARNING:\n",
            "sys.settrace() should not be used when the debugger is being used.\n",
            "This may cause the debugger to stop working correctly.\n",
            "If this is needed, please check: \n",
            "http://pydev.blogspot.com/2007/06/why-cant-pydev-debugger-work-with.html\n",
            "to see how to restore the debug tracing back correctly.\n",
            "Call Location:\n",
            "  File \"/usr/lib/python3.7/doctest.py\", line 1487, in run\n",
            "    sys.settrace(save_trace)\n",
            "\n"
          ]
        },
        {
          "output_type": "execute_result",
          "data": {
            "text/plain": [
              "TestResults(failed=0, attempted=2)"
            ]
          },
          "metadata": {},
          "execution_count": 5
        }
      ],
      "source": [
        "import doctest\n",
        "\n",
        "def c_to_f(degrees_c):\n",
        "    '''\n",
        "    Convert degrees Celsius to Fahrenheit\n",
        "    >>> c_to_f(0)\n",
        "    32.0\n",
        "    >>> c_to_f(10)\n",
        "    50.0\n",
        "    '''\n",
        "    return (9 / 5) * degrees_c + 32\n",
        "\n",
        "doctest.testmod()"
      ]
    },
    {
      "cell_type": "markdown",
      "id": "d0f371bd",
      "metadata": {
        "id": "d0f371bd"
      },
      "source": [
        "## Ethics\n",
        "\n",
        "What do we even mean when we talk about ethics in tech? \n",
        "\n",
        "### Topics\n",
        "* What does \"tech ethics\" usually entail?\n",
        "* Where do our data and models come from?\n",
        "* What responsibility do we have for the data we collect and use?"
      ]
    },
    {
      "cell_type": "markdown",
      "id": "4c878fa9",
      "metadata": {
        "id": "4c878fa9"
      },
      "source": [
        "## Professional Skills\n",
        "\n",
        "How can we prepare for a data science job interview?\n",
        "\n",
        "### Topics\n",
        "* Technical resources\n",
        "* Common questions"
      ]
    },
    {
      "cell_type": "markdown",
      "id": "0d1c483c",
      "metadata": {
        "id": "0d1c483c"
      },
      "source": [
        "# Let's get started!"
      ]
    }
  ],
  "metadata": {
    "celltoolbar": "Slideshow",
    "kernelspec": {
      "display_name": "Python 3 (ipykernel)",
      "language": "python",
      "name": "python3"
    },
    "language_info": {
      "codemirror_mode": {
        "name": "ipython",
        "version": 3
      },
      "file_extension": ".py",
      "mimetype": "text/x-python",
      "name": "python",
      "nbconvert_exporter": "python",
      "pygments_lexer": "ipython3",
      "version": "3.10.4"
    },
    "rise": {
      "scroll": true,
      "theme": "solarized",
      "transition": "none"
    },
    "colab": {
      "provenance": []
    }
  },
  "nbformat": 4,
  "nbformat_minor": 5
}