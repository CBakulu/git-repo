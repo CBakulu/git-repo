{
 "cells": [
  {
   "cell_type": "markdown",
   "id": "40d3f376",
   "metadata": {
    "id": "40d3f376"
   },
   "source": [
    "# In/Out: Modules, Files, Objects\n",
    "\n",
    "## Introduction to Python\n",
    "\n",
    "Data Sciences Institute, University of Toronto\n",
    "\n",
    "Instructor: Kaylie Lau | TA: Salaar Liaqat \n",
    "\n",
    "November - December 2022"
   ]
  },
  {
   "cell_type": "markdown",
   "id": "e5e5ab47",
   "metadata": {
    "id": "e5e5ab47"
   },
   "source": [
    "# Contents:\n",
    "\n",
    "1. Modules\n",
    "2. Working with Files\n",
    "3. Object-Oriented Programming"
   ]
  },
  {
   "cell_type": "markdown",
   "id": "b80d4fb6",
   "metadata": {
    "id": "b80d4fb6"
   },
   "source": [
    "# Modules"
   ]
  },
  {
   "cell_type": "markdown",
   "id": "87f65f22",
   "metadata": {
    "id": "87f65f22"
   },
   "source": [
    "## What is a module?\n",
    "\n",
    "A _module_ is a file that contains Python function definitions and executable statements. Just as functions let us reuse code in a program, modules let us reuse code across multiple programs. \n",
    "\n",
    "Modules to do related tasks can be collected into a _package_. Later on, we will use packages to work with datasets. You may hear terms module, package, and library used interchangeably -- they all refer to reusable collections of code that make it easier to do certain tasks."
   ]
  },
  {
   "cell_type": "markdown",
   "id": "e5d501b3",
   "metadata": {
    "id": "e5d501b3"
   },
   "source": [
    "## Working with modules\n",
    "\n",
    "Python comes with several modules built in. To use one, we `import` it. Normally, `import` statements go at the very top of the file -- we're only putting them in the middle here for teaching purposes."
   ]
  },
  {
   "cell_type": "code",
   "execution_count": null,
   "id": "c08ca78f",
   "metadata": {
    "id": "c08ca78f"
   },
   "outputs": [],
   "source": [
    "import math"
   ]
  },
  {
   "cell_type": "markdown",
   "id": "9e1a8d99",
   "metadata": {
    "id": "9e1a8d99"
   },
   "source": [
    "When using code in a module, we first reference the module, follwed by a period, then the value or function being used."
   ]
  },
  {
   "cell_type": "code",
   "execution_count": null,
   "id": "407dfc26",
   "metadata": {
    "colab": {
     "base_uri": "https://localhost:8080/"
    },
    "executionInfo": {
     "elapsed": 188,
     "status": "ok",
     "timestamp": 1668187661399,
     "user": {
      "displayName": "Kaylie Lau",
      "userId": "01284785813595846851"
     },
     "user_tz": 300
    },
    "id": "407dfc26",
    "outputId": "6b3302ca-1618-4706-848b-f8fefe745f32"
   },
   "outputs": [
    {
     "data": {
      "text/plain": [
       "3.141592653589793"
      ]
     },
     "execution_count": 2,
     "metadata": {},
     "output_type": "execute_result"
    }
   ],
   "source": [
    "math.pi"
   ]
  },
  {
   "cell_type": "code",
   "execution_count": null,
   "id": "25fce45c",
   "metadata": {
    "colab": {
     "base_uri": "https://localhost:8080/"
    },
    "executionInfo": {
     "elapsed": 11,
     "status": "ok",
     "timestamp": 1668187661400,
     "user": {
      "displayName": "Kaylie Lau",
      "userId": "01284785813595846851"
     },
     "user_tz": 300
    },
    "id": "25fce45c",
    "outputId": "12d1c221-615c-409d-f8cb-97dec026fa58"
   },
   "outputs": [
    {
     "data": {
      "text/plain": [
       "4"
      ]
     },
     "execution_count": 3,
     "metadata": {},
     "output_type": "execute_result"
    }
   ],
   "source": [
    "math.gcd(232, 18356)"
   ]
  },
  {
   "cell_type": "markdown",
   "id": "bbe0ad03",
   "metadata": {
    "id": "bbe0ad03"
   },
   "source": [
    "Not referencing the module produces an error."
   ]
  },
  {
   "cell_type": "code",
   "execution_count": null,
   "id": "71224e29",
   "metadata": {
    "colab": {
     "base_uri": "https://localhost:8080/",
     "height": 164
    },
    "executionInfo": {
     "elapsed": 132,
     "status": "error",
     "timestamp": 1668187661524,
     "user": {
      "displayName": "Kaylie Lau",
      "userId": "01284785813595846851"
     },
     "user_tz": 300
    },
    "id": "71224e29",
    "outputId": "0a415395-3638-4df8-b2f4-20ba1bf2948f"
   },
   "outputs": [
    {
     "ename": "NameError",
     "evalue": "ignored",
     "output_type": "error",
     "traceback": [
      "\u001b[0;31m---------------------------------------------------------------------------\u001b[0m",
      "\u001b[0;31mNameError\u001b[0m                                 Traceback (most recent call last)",
      "\u001b[0;32m<ipython-input-4-f84ab820532c>\u001b[0m in \u001b[0;36m<module>\u001b[0;34m\u001b[0m\n\u001b[0;32m----> 1\u001b[0;31m \u001b[0mpi\u001b[0m\u001b[0;34m\u001b[0m\u001b[0;34m\u001b[0m\u001b[0m\n\u001b[0m",
      "\u001b[0;31mNameError\u001b[0m: name 'pi' is not defined"
     ]
    }
   ],
   "source": [
    "pi"
   ]
  },
  {
   "cell_type": "code",
   "execution_count": null,
   "id": "93e6765f",
   "metadata": {
    "id": "93e6765f"
   },
   "outputs": [],
   "source": [
    "gcd(232, 18356)"
   ]
  },
  {
   "cell_type": "markdown",
   "id": "8a9cad8c",
   "metadata": {
    "id": "8a9cad8c"
   },
   "source": [
    "If we only want a part of a module, we can import parts with a `from...import` statement. This is useful for large modules like `datetime`, where we may only want to use a few features."
   ]
  },
  {
   "cell_type": "code",
   "execution_count": null,
   "id": "c0bbaa05",
   "metadata": {
    "id": "c0bbaa05"
   },
   "outputs": [],
   "source": [
    "from datetime import date"
   ]
  },
  {
   "cell_type": "code",
   "execution_count": null,
   "id": "de2b81f5",
   "metadata": {
    "colab": {
     "base_uri": "https://localhost:8080/"
    },
    "executionInfo": {
     "elapsed": 293,
     "status": "ok",
     "timestamp": 1668187698911,
     "user": {
      "displayName": "Kaylie Lau",
      "userId": "01284785813595846851"
     },
     "user_tz": 300
    },
    "id": "de2b81f5",
    "outputId": "e792ab31-1b83-4517-e141-2adab4d317d6"
   },
   "outputs": [
    {
     "name": "stdout",
     "output_type": "stream",
     "text": [
      "2022-11-11\n"
     ]
    }
   ],
   "source": [
    "# we don't have to write datetime.date.today()\n",
    "print(date.today())"
   ]
  },
  {
   "cell_type": "markdown",
   "id": "5c336296",
   "metadata": {
    "id": "5c336296"
   },
   "source": [
    "## Working with dates\n",
    "\n",
    "Earlier, we encountered the `datetime` module. `datetime` provides `date`, `time`, `datetime`, and `timedelta` types, plus ways to manipulate them."
   ]
  },
  {
   "cell_type": "code",
   "execution_count": null,
   "id": "340ff83d",
   "metadata": {
    "id": "340ff83d"
   },
   "outputs": [],
   "source": [
    "# import more submodules from datetime\n",
    "from datetime import datetime, timedelta"
   ]
  },
  {
   "cell_type": "markdown",
   "id": "e1418831",
   "metadata": {
    "id": "e1418831"
   },
   "source": [
    "### Creating dates\n",
    "\n",
    "The easiest day to create a date is with `date` and `datetime`'s `today()` method. Of course, this is only good so long as we want the current date. We can use the `date()` and `datetime()` functions to create dates in general, passing in integers for year, month, and day, plus an optional timezone argument. For `datetime()`, we can also pass arguments for hour, minute, second, and microsecond."
   ]
  },
  {
   "cell_type": "code",
   "execution_count": null,
   "id": "f3dd49ba",
   "metadata": {
    "colab": {
     "base_uri": "https://localhost:8080/"
    },
    "executionInfo": {
     "elapsed": 33,
     "status": "ok",
     "timestamp": 1668187698914,
     "user": {
      "displayName": "Kaylie Lau",
      "userId": "01284785813595846851"
     },
     "user_tz": 300
    },
    "id": "f3dd49ba",
    "outputId": "89729693-4ab9-4cd7-f405-d49f4154f472"
   },
   "outputs": [
    {
     "name": "stdout",
     "output_type": "stream",
     "text": [
      "2022-11-11 17:28:18.622499\n"
     ]
    },
    {
     "data": {
      "text/plain": [
       "datetime.datetime(2022, 11, 11, 17, 28, 18, 622660)"
      ]
     },
     "execution_count": 8,
     "metadata": {},
     "output_type": "execute_result"
    }
   ],
   "source": [
    "print(datetime.today())\n",
    "datetime.today()"
   ]
  },
  {
   "cell_type": "code",
   "execution_count": null,
   "id": "b070d064",
   "metadata": {
    "colab": {
     "base_uri": "https://localhost:8080/"
    },
    "executionInfo": {
     "elapsed": 26,
     "status": "ok",
     "timestamp": 1668187698915,
     "user": {
      "displayName": "Kaylie Lau",
      "userId": "01284785813595846851"
     },
     "user_tz": 300
    },
    "id": "b070d064",
    "outputId": "5b421a7b-6696-47f0-a4da-1555bd2fe683"
   },
   "outputs": [
    {
     "data": {
      "text/plain": [
       "datetime.date(1991, 2, 20)"
      ]
     },
     "execution_count": 9,
     "metadata": {},
     "output_type": "execute_result"
    }
   ],
   "source": [
    "py_launch = date(1991, 2, 20)\n",
    "py_launch"
   ]
  },
  {
   "cell_type": "markdown",
   "id": "6052feea",
   "metadata": {
    "id": "6052feea"
   },
   "source": [
    "### Accessing date parts\n",
    "\n",
    "We can access parts of a datetime, like the month or the minute."
   ]
  },
  {
   "cell_type": "code",
   "execution_count": null,
   "id": "515df9e0",
   "metadata": {
    "colab": {
     "base_uri": "https://localhost:8080/"
    },
    "executionInfo": {
     "elapsed": 24,
     "status": "ok",
     "timestamp": 1668187698915,
     "user": {
      "displayName": "Kaylie Lau",
      "userId": "01284785813595846851"
     },
     "user_tz": 300
    },
    "id": "515df9e0",
    "outputId": "09906990-66a2-4e1c-91ca-7c6f138d37c7"
   },
   "outputs": [
    {
     "data": {
      "text/plain": [
       "1991"
      ]
     },
     "execution_count": 10,
     "metadata": {},
     "output_type": "execute_result"
    }
   ],
   "source": [
    "py_launch.year"
   ]
  },
  {
   "cell_type": "code",
   "execution_count": null,
   "id": "a357a372",
   "metadata": {
    "colab": {
     "base_uri": "https://localhost:8080/"
    },
    "executionInfo": {
     "elapsed": 24,
     "status": "ok",
     "timestamp": 1668187698916,
     "user": {
      "displayName": "Kaylie Lau",
      "userId": "01284785813595846851"
     },
     "user_tz": 300
    },
    "id": "a357a372",
    "outputId": "366fba70-79f8-4d29-8b0e-a068b8f77fd9"
   },
   "outputs": [
    {
     "data": {
      "text/plain": [
       "28"
      ]
     },
     "execution_count": 11,
     "metadata": {},
     "output_type": "execute_result"
    }
   ],
   "source": [
    "datetime.today().minute"
   ]
  },
  {
   "cell_type": "markdown",
   "id": "cd83aa4a",
   "metadata": {
    "id": "cd83aa4a"
   },
   "source": [
    "We can even do arithmetic with datetime parts, but it's not datetime-specific."
   ]
  },
  {
   "cell_type": "code",
   "execution_count": null,
   "id": "784acaac",
   "metadata": {
    "colab": {
     "base_uri": "https://localhost:8080/"
    },
    "executionInfo": {
     "elapsed": 22,
     "status": "ok",
     "timestamp": 1668187698916,
     "user": {
      "displayName": "Kaylie Lau",
      "userId": "01284785813595846851"
     },
     "user_tz": 300
    },
    "id": "784acaac",
    "outputId": "8a344d30-bfde-410c-de4a-120eb31ce611"
   },
   "outputs": [
    {
     "data": {
      "text/plain": [
       "1996"
      ]
     },
     "execution_count": 12,
     "metadata": {},
     "output_type": "execute_result"
    }
   ],
   "source": [
    "# we can add to datetime parts\n",
    "py_launch.year + 5"
   ]
  },
  {
   "cell_type": "code",
   "execution_count": null,
   "id": "c3ae4893",
   "metadata": {
    "colab": {
     "base_uri": "https://localhost:8080/"
    },
    "executionInfo": {
     "elapsed": 21,
     "status": "ok",
     "timestamp": 1668187698917,
     "user": {
      "displayName": "Kaylie Lau",
      "userId": "01284785813595846851"
     },
     "user_tz": 300
    },
    "id": "c3ae4893",
    "outputId": "aa26a9c7-f0e5-4e8b-fafd-9811733a7e72"
   },
   "outputs": [
    {
     "data": {
      "text/plain": [
       "88"
      ]
     },
     "execution_count": 13,
     "metadata": {},
     "output_type": "execute_result"
    }
   ],
   "source": [
    "datetime.today().minute + 60"
   ]
  },
  {
   "cell_type": "markdown",
   "id": "47bae18f",
   "metadata": {
    "id": "47bae18f"
   },
   "source": [
    "### Date operations and `timedelta`\n",
    "\n",
    "We can add and subtract dates from one another with the `+` and `-` operators. The value we get back isn't a date or a time, however, but a `timedelta` -- a different type of data that stores the difference in days, seconds, and microseconds."
   ]
  },
  {
   "cell_type": "code",
   "execution_count": null,
   "id": "307fa784",
   "metadata": {
    "colab": {
     "base_uri": "https://localhost:8080/"
    },
    "executionInfo": {
     "elapsed": 20,
     "status": "ok",
     "timestamp": 1668187698918,
     "user": {
      "displayName": "Kaylie Lau",
      "userId": "01284785813595846851"
     },
     "user_tz": 300
    },
    "id": "307fa784",
    "outputId": "2330e90d-4f2b-4c02-9a01-62978d090208"
   },
   "outputs": [
    {
     "data": {
      "text/plain": [
       "datetime.timedelta(days=-8351, seconds=23501, microseconds=287525)"
      ]
     },
     "execution_count": 14,
     "metadata": {},
     "output_type": "execute_result"
    }
   ],
   "source": [
    "datetime(2000, 1, 1) - datetime.today()"
   ]
  },
  {
   "cell_type": "markdown",
   "id": "20e2933f",
   "metadata": {
    "id": "20e2933f"
   },
   "source": [
    "To format the age more nicely, we can access `timedelta`'s `days` part and divide."
   ]
  },
  {
   "cell_type": "code",
   "execution_count": null,
   "id": "2fc1dd14",
   "metadata": {
    "colab": {
     "base_uri": "https://localhost:8080/"
    },
    "executionInfo": {
     "elapsed": 19,
     "status": "ok",
     "timestamp": 1668187698919,
     "user": {
      "displayName": "Kaylie Lau",
      "userId": "01284785813595846851"
     },
     "user_tz": 300
    },
    "id": "2fc1dd14",
    "outputId": "6a365ed0-f8d4-4eb3-d946-089ef3e5384b"
   },
   "outputs": [
    {
     "name": "stdout",
     "output_type": "stream",
     "text": [
      "Python is 11587 days, 0:00:00\n"
     ]
    }
   ],
   "source": [
    "# calculate how old Python is\n",
    "py_age = date.today() - date(1991, 2, 20)\n",
    "print(f'Python is {py_age}')"
   ]
  },
  {
   "cell_type": "code",
   "execution_count": null,
   "id": "b430c7af",
   "metadata": {
    "colab": {
     "base_uri": "https://localhost:8080/"
    },
    "executionInfo": {
     "elapsed": 172,
     "status": "ok",
     "timestamp": 1668187699074,
     "user": {
      "displayName": "Kaylie Lau",
      "userId": "01284785813595846851"
     },
     "user_tz": 300
    },
    "id": "b430c7af",
    "outputId": "bc6a0d14-eaa8-4bb5-ea64-5346e6292d5b"
   },
   "outputs": [
    {
     "name": "stdout",
     "output_type": "stream",
     "text": [
      "Python is 31 years old.\n"
     ]
    }
   ],
   "source": [
    "print(f'Python is {py_age.days//365} years old.')"
   ]
  },
  {
   "cell_type": "markdown",
   "id": "8ab5625f",
   "metadata": {
    "id": "8ab5625f"
   },
   "source": [
    "If we want to add or subtract a specific amount of time, we can use the `timedelta()` function, passing in as keyword arguments the desired interval."
   ]
  },
  {
   "cell_type": "code",
   "execution_count": null,
   "id": "8b3307f7",
   "metadata": {
    "colab": {
     "base_uri": "https://localhost:8080/"
    },
    "executionInfo": {
     "elapsed": 47,
     "status": "ok",
     "timestamp": 1668187699076,
     "user": {
      "displayName": "Kaylie Lau",
      "userId": "01284785813595846851"
     },
     "user_tz": 300
    },
    "id": "8b3307f7",
    "outputId": "ef482dda-18a6-4b4d-875b-d3adc1f05a09"
   },
   "outputs": [
    {
     "data": {
      "text/plain": [
       "datetime.datetime(2022, 11, 11, 18, 28, 18, 774180)"
      ]
     },
     "execution_count": 17,
     "metadata": {},
     "output_type": "execute_result"
    }
   ],
   "source": [
    "# find the time an hour from now\n",
    "datetime.today() + timedelta(hours=1)"
   ]
  },
  {
   "cell_type": "markdown",
   "id": "8c6114c7",
   "metadata": {
    "id": "8c6114c7"
   },
   "source": [
    "### `strptime()` and `strftime()`\n",
    "\n",
    "Often, we get dates and times as text in a variety of formats. Just as often, we need to format a date or a time for text. `strptime()` and `strftime()` let us convert strings into datetimes and datetimes into formatted strings, respectively. To do so, we specify the datetime format using format codes. "
   ]
  },
  {
   "cell_type": "markdown",
   "id": "6db08b6b",
   "metadata": {
    "id": "6db08b6b"
   },
   "source": [
    "### Datetime format codes\n",
    "\n",
    "https://strftime.org/ has a complete cheat sheet for format codes. The most common codes are below.\n",
    "\n",
    "| Code | Description |\n",
    "|---|---|\n",
    "| %Y | Four-digit year |\n",
    "| %m | Zero-padded month |\n",
    "| %B | Month name |\n",
    "| %A | Day name |\n",
    "| %d | Zero-padded day |\n",
    "| %H | Zero-padded hour (24-hour clock) |\n",
    "| %I | Zero-padded hour (12-hour clock) |\n",
    "| %M | Zero-padded minute |\n",
    "| %S | Zero-padded second |\n",
    "| %p | AM/PM |"
   ]
  },
  {
   "cell_type": "code",
   "execution_count": null,
   "id": "2602a534",
   "metadata": {
    "colab": {
     "base_uri": "https://localhost:8080/",
     "height": 37
    },
    "executionInfo": {
     "elapsed": 45,
     "status": "ok",
     "timestamp": 1668187699077,
     "user": {
      "displayName": "Kaylie Lau",
      "userId": "01284785813595846851"
     },
     "user_tz": 300
    },
    "id": "2602a534",
    "outputId": "34035c84-199b-4ed6-8578-5f622e1e875e"
   },
   "outputs": [
    {
     "data": {
      "application/vnd.google.colaboratory.intrinsic+json": {
       "type": "string"
      },
      "text/plain": [
       "'17:28 Friday 11 November 2022'"
      ]
     },
     "execution_count": 18,
     "metadata": {},
     "output_type": "execute_result"
    }
   ],
   "source": [
    "datetime.today().strftime('%H:%M %A %d %B %Y')"
   ]
  },
  {
   "cell_type": "code",
   "execution_count": null,
   "id": "2973d812",
   "metadata": {
    "colab": {
     "base_uri": "https://localhost:8080/"
    },
    "executionInfo": {
     "elapsed": 44,
     "status": "ok",
     "timestamp": 1668187699078,
     "user": {
      "displayName": "Kaylie Lau",
      "userId": "01284785813595846851"
     },
     "user_tz": 300
    },
    "id": "2973d812",
    "outputId": "5df088b0-c46e-457e-ebb7-d4324b264248"
   },
   "outputs": [
    {
     "data": {
      "text/plain": [
       "datetime.datetime(1991, 2, 20, 0, 0)"
      ]
     },
     "execution_count": 19,
     "metadata": {},
     "output_type": "execute_result"
    }
   ],
   "source": [
    "# parse a string to datetime\n",
    "datetime.strptime(\"Feb 20 '91\", \"%b %d '%y\")"
   ]
  },
  {
   "cell_type": "markdown",
   "id": "9675877a",
   "metadata": {
    "id": "9675877a"
   },
   "source": [
    "## Regular expressions\n",
    "\n",
    "Python also has a module `re`, for _regular expressions_. Regular expressions, or _regex_, can be thought of a mini-language for pattern matching text. Regular expressions give us more powerful tools for finding substrings."
   ]
  },
  {
   "cell_type": "code",
   "execution_count": null,
   "id": "c0fd02fc",
   "metadata": {
    "id": "c0fd02fc"
   },
   "outputs": [],
   "source": [
    "import re"
   ]
  },
  {
   "cell_type": "code",
   "execution_count": null,
   "id": "1c306f87",
   "metadata": {
    "id": "1c306f87"
   },
   "outputs": [],
   "source": [
    "text = '''My favourite thing to do on nice days is program.\n",
    "Programming is fun as long as there aren't too many bugs!'''"
   ]
  },
  {
   "cell_type": "markdown",
   "id": "f2a33ae5",
   "metadata": {
    "id": "f2a33ae5"
   },
   "source": [
    "### regex: a brief guide\n",
    "\n",
    "There are several special characters in regex. These are some of the most common. Python's documentation provides a [guide to regular expression syntax](https://docs.python.org/3/library/re.html#regular-expression-syntax).\n",
    "\n",
    "| Character | Meaning |\n",
    "|---|---|\n",
    "| * | Match zero or more of the RE before |\n",
    "| + | Match one or more of the RE before |\n",
    "| ? | Match zero or one of the RE before |\n",
    "| \\ | Escape character |\n",
    "| \\d | Match any decimal digit |\n",
    "| \\s | Match any whitespace |\n",
    "| \\w | Match any word character (letters, digits, underscore) |\n",
    "| [aeiou] | Match any of the characters in brackets |"
   ]
  },
  {
   "cell_type": "markdown",
   "id": "0c8dd018",
   "metadata": {
    "id": "0c8dd018"
   },
   "source": [
    "### Searching for text\n",
    "\n",
    "`re`'s `search()` function lets us pattern match text. It returns a special match type that tells us what text was matched and where in the string it was found. Note that only the first match is indicated."
   ]
  },
  {
   "cell_type": "code",
   "execution_count": null,
   "id": "9263e625",
   "metadata": {
    "colab": {
     "base_uri": "https://localhost:8080/"
    },
    "executionInfo": {
     "elapsed": 41,
     "status": "ok",
     "timestamp": 1668187699080,
     "user": {
      "displayName": "Kaylie Lau",
      "userId": "01284785813595846851"
     },
     "user_tz": 300
    },
    "id": "9263e625",
    "outputId": "224c2cf9-794f-4c74-c64f-cb464791212b"
   },
   "outputs": [
    {
     "data": {
      "text/plain": [
       "<re.Match object; span=(3, 12), match='favourite'>"
      ]
     },
     "execution_count": 22,
     "metadata": {},
     "output_type": "execute_result"
    }
   ],
   "source": [
    "re.search('favou?rite', text)"
   ]
  },
  {
   "cell_type": "code",
   "execution_count": null,
   "id": "a81db0a5",
   "metadata": {
    "colab": {
     "base_uri": "https://localhost:8080/"
    },
    "executionInfo": {
     "elapsed": 39,
     "status": "ok",
     "timestamp": 1668187699081,
     "user": {
      "displayName": "Kaylie Lau",
      "userId": "01284785813595846851"
     },
     "user_tz": 300
    },
    "id": "a81db0a5",
    "outputId": "a737c3f6-a0d6-4e82-d207-455333cb1915"
   },
   "outputs": [
    {
     "name": "stdout",
     "output_type": "stream",
     "text": [
      "Text includes favourites\n"
     ]
    }
   ],
   "source": [
    "if re.search('favou?rite', text):\n",
    "    print('Text includes favourites')\n",
    "else:\n",
    "    print('Text is about something else')"
   ]
  },
  {
   "cell_type": "markdown",
   "id": "026828ec",
   "metadata": {
    "id": "026828ec"
   },
   "source": [
    "`findall()` returns all non-overlapping matches of a pattern in a string. The result can be either a list of strings or a list of tuples, depending on the regular expression. Note that we can add in flags -- essentially settings -- for pattern matching."
   ]
  },
  {
   "cell_type": "code",
   "execution_count": null,
   "id": "0fbaa5c0",
   "metadata": {
    "colab": {
     "base_uri": "https://localhost:8080/"
    },
    "executionInfo": {
     "elapsed": 38,
     "status": "ok",
     "timestamp": 1668187699081,
     "user": {
      "displayName": "Kaylie Lau",
      "userId": "01284785813595846851"
     },
     "user_tz": 300
    },
    "id": "0fbaa5c0",
    "outputId": "5e0f94f1-0069-4d2d-cb80-4e7647ba820d"
   },
   "outputs": [
    {
     "data": {
      "text/plain": [
       "['thing', 'Programming']"
      ]
     },
     "execution_count": 24,
     "metadata": {},
     "output_type": "execute_result"
    }
   ],
   "source": [
    "# match words ending in -ing\n",
    "re.findall('\\w*ing', text)"
   ]
  },
  {
   "cell_type": "code",
   "execution_count": null,
   "id": "e2b02f20",
   "metadata": {
    "colab": {
     "base_uri": "https://localhost:8080/"
    },
    "executionInfo": {
     "elapsed": 36,
     "status": "ok",
     "timestamp": 1668187699082,
     "user": {
      "displayName": "Kaylie Lau",
      "userId": "01284785813595846851"
     },
     "user_tz": 300
    },
    "id": "e2b02f20",
    "outputId": "c5bbca19-2766-48d7-acf6-21eafc66b042"
   },
   "outputs": [
    {
     "data": {
      "text/plain": [
       "['ing', 'ing']"
      ]
     },
     "execution_count": 25,
     "metadata": {},
     "output_type": "execute_result"
    }
   ],
   "source": [
    "# see what happens if we just search for 'ing'\n",
    "re.findall('ing', text)"
   ]
  },
  {
   "cell_type": "code",
   "execution_count": null,
   "id": "5e19231b",
   "metadata": {
    "colab": {
     "base_uri": "https://localhost:8080/"
    },
    "executionInfo": {
     "elapsed": 35,
     "status": "ok",
     "timestamp": 1668187699083,
     "user": {
      "displayName": "Kaylie Lau",
      "userId": "01284785813595846851"
     },
     "user_tz": 300
    },
    "id": "5e19231b",
    "outputId": "6df4d317-f104-49e2-8c3c-423f89a7f00c"
   },
   "outputs": [
    {
     "data": {
      "text/plain": [
       "['program', 'Program']"
      ]
     },
     "execution_count": 26,
     "metadata": {},
     "output_type": "execute_result"
    }
   ],
   "source": [
    "# use re.I for case insensitive matching\n",
    "re.findall('program', text, flags=re.I)"
   ]
  },
  {
   "cell_type": "markdown",
   "id": "054484b0",
   "metadata": {
    "id": "054484b0"
   },
   "source": [
    "### Replacing Text\n",
    "\n",
    "The `sub()` function replaces occurrences of a pattern. `sub()` takes as arguments the pattern to look for, the replacement string, and the string to make replacements in. It also takes an optional `count` argument for how many occurrences to replace and a `flags` argument."
   ]
  },
  {
   "cell_type": "code",
   "execution_count": null,
   "id": "dd86c4b2",
   "metadata": {
    "colab": {
     "base_uri": "https://localhost:8080/",
     "height": 37
    },
    "executionInfo": {
     "elapsed": 33,
     "status": "ok",
     "timestamp": 1668187699083,
     "user": {
      "displayName": "Kaylie Lau",
      "userId": "01284785813595846851"
     },
     "user_tz": 300
    },
    "id": "dd86c4b2",
    "outputId": "67af9bb8-f0fe-4c78-e17c-86be54aa82e6"
   },
   "outputs": [
    {
     "data": {
      "application/vnd.google.colaboratory.intrinsic+json": {
       "type": "string"
      },
      "text/plain": [
       "\"My favourite thing to do on nice days is garden.\\ngardening is fun as long as there aren't too many bugs!\""
      ]
     },
     "execution_count": 27,
     "metadata": {},
     "output_type": "execute_result"
    }
   ],
   "source": [
    "# replace 'program' with 'garden'\n",
    "re.sub('program+', 'garden', text, flags=re.I)"
   ]
  },
  {
   "cell_type": "markdown",
   "id": "91f3154b",
   "metadata": {
    "id": "91f3154b"
   },
   "source": [
    "### Reusing regular expressions\n",
    "\n",
    "If we want to use a regular expression in multiple places in our program, we can `compile()` the pattern and any flags. Then, we can use the pattern's methods to find and replace text."
   ]
  },
  {
   "cell_type": "code",
   "execution_count": null,
   "id": "99dfa20d",
   "metadata": {
    "id": "99dfa20d"
   },
   "outputs": [],
   "source": [
    "program_re = re.compile('program', flags=re.I)"
   ]
  },
  {
   "cell_type": "code",
   "execution_count": null,
   "id": "977095a0",
   "metadata": {
    "id": "977095a0"
   },
   "outputs": [],
   "source": [
    "about_py = 'Python is a programming language first released in 1991.'"
   ]
  },
  {
   "cell_type": "code",
   "execution_count": null,
   "id": "96494b6b",
   "metadata": {
    "colab": {
     "base_uri": "https://localhost:8080/"
    },
    "executionInfo": {
     "elapsed": 29,
     "status": "ok",
     "timestamp": 1668187699085,
     "user": {
      "displayName": "Kaylie Lau",
      "userId": "01284785813595846851"
     },
     "user_tz": 300
    },
    "id": "96494b6b",
    "outputId": "b3ab7a82-2bf5-4865-8591-4b35222158bb"
   },
   "outputs": [
    {
     "name": "stdout",
     "output_type": "stream",
     "text": [
      "['program', 'Program']\n",
      "['program']\n"
     ]
    }
   ],
   "source": [
    "print(program_re.findall(text))\n",
    "print(program_re.findall(about_py))"
   ]
  },
  {
   "cell_type": "markdown",
   "id": "58b5b55e",
   "metadata": {
    "id": "58b5b55e"
   },
   "source": [
    "# Working with Files"
   ]
  },
  {
   "cell_type": "markdown",
   "id": "dab3ac0a",
   "metadata": {
    "id": "dab3ac0a"
   },
   "source": [
    "So far we have worked with data bundled with our notebooks. Most data, of course, is stored elsewhere: in databases and files stored locally and online. We need to be able to read data into a program to do analyses. We should also be able to write data out to files of our own."
   ]
  },
  {
   "cell_type": "markdown",
   "id": "a277810c",
   "metadata": {
    "id": "a277810c"
   },
   "source": [
    "## Reading and writing files\n",
    "\n",
    "Luckily, Python has a built-in function, `open()` for opening files. `open()` takes a string indicating the _file path_, or location, of the file to open, plus a one-character string indicating whether we should open the file in read-only, overwrite, or append mode.\n",
    "\n",
    "| `open()` mode | Description |\n",
    "|---|---|\n",
    "|`'r'` | Read-only. Produces an error if the file does not already exist. |\n",
    "|`'w'` | Write. Creates a new file if one does not exist. If the file already exists, the current contents are deleted and overwritten. |\n",
    "|`'a'`| Append. Adds to an existing file. If the file does not exist, it will be created. |"
   ]
  },
  {
   "cell_type": "markdown",
   "id": "dc1b1f0e",
   "metadata": {
    "id": "dc1b1f0e"
   },
   "source": [
    "Paths can be _absolute_, like `C:/Users/Owner/Documents/data/demo_data.csv`, or _relative_, like `data/demo_data.csv`. Relative paths are relative to the folder the Python file is in -- if our code is not in `Documents`, `data/demo_data.csv` won't work."
   ]
  },
  {
   "cell_type": "markdown",
   "id": "8ec68487",
   "metadata": {
    "id": "8ec68487"
   },
   "source": [
    "### Opening files\n",
    "\n",
    "To open a file, we use a `with` statement, which follows the pattern `with open('file_path') as file_variable_name:`, then an indented block of code to process the file. The `with` statement ensures that Python closes the file when we're done working with it."
   ]
  },
  {
   "cell_type": "code",
   "execution_count": null,
   "id": "5b305de4",
   "metadata": {
    "colab": {
     "base_uri": "https://localhost:8080/"
    },
    "executionInfo": {
     "elapsed": 28,
     "status": "ok",
     "timestamp": 1668187699086,
     "user": {
      "displayName": "Kaylie Lau",
      "userId": "01284785813595846851"
     },
     "user_tz": 300
    },
    "id": "5b305de4",
    "outputId": "a123e213-1820-4310-f6d2-09b3a29b6523"
   },
   "outputs": [
    {
     "name": "stdout",
     "output_type": "stream",
     "text": [
      "<_io.TextIOWrapper name='sample_data/california_housing_test.csv' mode='r' encoding='UTF-8'>\n"
     ]
    }
   ],
   "source": [
    "with open('sample_data/california_housing_test.csv', 'r') as f:\n",
    "    print(f)"
   ]
  },
  {
   "cell_type": "markdown",
   "id": "86b48775",
   "metadata": {
    "id": "86b48775"
   },
   "source": [
    "### Reading files\n",
    "\n",
    "Opening a file doesn't immediately get us the file's contents. To do that, we must use a read method.\n",
    "\n",
    "* `read()` returns the full file contents, which can be overwhelming for larger files. \n",
    "* `readline()` returns only the next line in the file. Python keeps track of where it is in the file.\n",
    "* `readlines()` returns the full file as a list. Each item is one line in the file."
   ]
  },
  {
   "cell_type": "code",
   "execution_count": null,
   "id": "ce0cfbe4",
   "metadata": {
    "colab": {
     "base_uri": "https://localhost:8080/"
    },
    "executionInfo": {
     "elapsed": 27,
     "status": "ok",
     "timestamp": 1668187699087,
     "user": {
      "displayName": "Kaylie Lau",
      "userId": "01284785813595846851"
     },
     "user_tz": 300
    },
    "id": "ce0cfbe4",
    "outputId": "54ea70be-097d-460e-9b8b-7a78b1330bcf"
   },
   "outputs": [
    {
     "name": "stdout",
     "output_type": "stream",
     "text": [
      "\"longitude\",\"latitude\",\"housing_median_age\",\"total_rooms\",\"total_bedrooms\",\"population\",\"households\",\"median_income\",\"median_house_value\"\n",
      "\n",
      "-122.050000,37.370000,27.000000,3885.000000,661.000000,1537.000000,606.000000,6.608500,344700.000000\n",
      "\n",
      "-118.300000,34.260000,43.000000,1510.000000,310.000000,809.000000,277.000000,3.599000,176500.000000\n",
      "\n",
      "-117.810000,33.780000,27.000000,3589.000000,507.000000,1484.000000,495.000000,5.793400,270500.000000\n",
      "\n",
      "-118.360000,33.820000,28.000000,67.000000,15.000000,49.000000,11.000000,6.135900,330000.000000\n",
      "\n"
     ]
    }
   ],
   "source": [
    "with open('sample_data/california_housing_test.csv', 'r') as f:\n",
    "    for i in range(5):\n",
    "        print(f.readline())"
   ]
  },
  {
   "cell_type": "markdown",
   "id": "7456e7db",
   "metadata": {
    "id": "7456e7db"
   },
   "source": [
    "### Writing files\n",
    "\n",
    "There are corresponding `write()` methods for files.\n",
    "\n",
    "* `write()` writes a string to file.\n",
    "* `writelines()` writes each item in an iterable to file, with no separating text in between."
   ]
  },
  {
   "cell_type": "code",
   "execution_count": null,
   "id": "85531f81",
   "metadata": {
    "id": "85531f81"
   },
   "outputs": [],
   "source": [
    "provinces = ['BC', 'AB', 'SK', 'MB', 'ON', 'QC', 'NL', 'NB', 'NS', 'PE']\n",
    "with open('provinces.txt', 'w') as province_file:\n",
    "    province_file.writelines(provinces)"
   ]
  },
  {
   "cell_type": "code",
   "execution_count": null,
   "id": "aaa2bb40",
   "metadata": {
    "colab": {
     "base_uri": "https://localhost:8080/"
    },
    "executionInfo": {
     "elapsed": 159,
     "status": "ok",
     "timestamp": 1668187699222,
     "user": {
      "displayName": "Kaylie Lau",
      "userId": "01284785813595846851"
     },
     "user_tz": 300
    },
    "id": "aaa2bb40",
    "outputId": "5402a0c0-8dcc-4ee3-e0e7-a885aebacb32"
   },
   "outputs": [
    {
     "name": "stdout",
     "output_type": "stream",
     "text": [
      "BCABSKMBONQCNLNBNSPE\n"
     ]
    }
   ],
   "source": [
    "with open('provinces.txt', 'r') as province_file:\n",
    "    print(province_file.read())"
   ]
  },
  {
   "cell_type": "markdown",
   "id": "7357d118",
   "metadata": {
    "id": "7357d118"
   },
   "source": [
    "## Working with specific file formats\n",
    "\n",
    "Python has built-in modules for working with specific file formats, like `csv` and `json`. We won't spend much time here, as we will soon be working with libraries that let us open, analyze, and write data in both formats."
   ]
  },
  {
   "cell_type": "code",
   "execution_count": null,
   "id": "b46dcfa7",
   "metadata": {
    "id": "b46dcfa7"
   },
   "outputs": [],
   "source": [
    "import csv"
   ]
  },
  {
   "cell_type": "code",
   "execution_count": null,
   "id": "0a842459",
   "metadata": {
    "id": "0a842459"
   },
   "outputs": [],
   "source": [
    "with open('sample_data/california_housing_test.csv', 'r') as f:\n",
    "    contents = csv.reader(f)\n",
    "    for row in contents:\n",
    "        print(row)"
   ]
  },
  {
   "cell_type": "markdown",
   "id": "c83aae9f",
   "metadata": {
    "id": "c83aae9f"
   },
   "source": [
    "## Navigating folders\n",
    "\n",
    "Being able to navigate the computer's file system enables us to work with entire folders' worth of files stored locally on a computer (or \"locally\" in an environment like Colab). Python's built-in `os` module lets us do just that."
   ]
  },
  {
   "cell_type": "code",
   "execution_count": null,
   "id": "1f29bddb",
   "metadata": {
    "id": "1f29bddb"
   },
   "outputs": [],
   "source": [
    "import os"
   ]
  },
  {
   "cell_type": "code",
   "execution_count": null,
   "id": "701522bd",
   "metadata": {
    "colab": {
     "base_uri": "https://localhost:8080/",
     "height": 227
    },
    "executionInfo": {
     "elapsed": 22,
     "status": "ok",
     "timestamp": 1668187700336,
     "user": {
      "displayName": "Kaylie Lau",
      "userId": "01284785813595846851"
     },
     "user_tz": 300
    },
    "id": "701522bd",
    "outputId": "02ae4966-b176-4f7b-b1fc-c08ef0329353"
   },
   "outputs": [
    {
     "data": {
      "application/vnd.google.colaboratory.intrinsic+json": {
       "type": "string"
      },
      "text/plain": [
       "'/content'"
      ]
     },
     "execution_count": 38,
     "metadata": {},
     "output_type": "execute_result"
    }
   ],
   "source": [
    "# get the path to the folder we're currently in\n",
    "os.getcwd()"
   ]
  },
  {
   "cell_type": "code",
   "execution_count": null,
   "id": "4df1c5d7",
   "metadata": {
    "colab": {
     "base_uri": "https://localhost:8080/"
    },
    "executionInfo": {
     "elapsed": 21,
     "status": "ok",
     "timestamp": 1668187700337,
     "user": {
      "displayName": "Kaylie Lau",
      "userId": "01284785813595846851"
     },
     "user_tz": 300
    },
    "id": "4df1c5d7",
    "outputId": "c751f049-cdc0-4c76-dfb3-861a16dd7cda"
   },
   "outputs": [
    {
     "data": {
      "text/plain": [
       "['.config', 'provinces.txt', 'sample_data']"
      ]
     },
     "execution_count": 39,
     "metadata": {},
     "output_type": "execute_result"
    }
   ],
   "source": [
    "# see the contents of the current folder\n",
    "os.listdir()"
   ]
  },
  {
   "cell_type": "code",
   "execution_count": null,
   "id": "a0659f7d",
   "metadata": {
    "colab": {
     "base_uri": "https://localhost:8080/"
    },
    "executionInfo": {
     "elapsed": 21,
     "status": "ok",
     "timestamp": 1668187700339,
     "user": {
      "displayName": "Kaylie Lau",
      "userId": "01284785813595846851"
     },
     "user_tz": 300
    },
    "id": "a0659f7d",
    "outputId": "02bdb26f-7147-4553-a708-9407c67b4ed9"
   },
   "outputs": [
    {
     "name": "stdout",
     "output_type": "stream",
     "text": [
      "README.md\n",
      "anscombe.json\n",
      "california_housing_train.csv\n",
      "mnist_test.csv\n",
      "california_housing_test.csv\n",
      "mnist_train_small.csv\n"
     ]
    }
   ],
   "source": [
    "# loop over the files in the sample data folder\n",
    "for i in os.listdir('sample_data'):\n",
    "    print(i)"
   ]
  },
  {
   "cell_type": "markdown",
   "id": "7b02eeb2",
   "metadata": {
    "id": "7b02eeb2"
   },
   "source": [
    "## Manipulating paths\n",
    "\n",
    "The `os.path` submodule provides safe ways to manipulate paths. `os.path.join()` lets us create properly formatted paths from separate folder and file names, without worrying about getting slashes right. `os.path.exists()` lets us check for a file before trying to open or accidentally overwriting it."
   ]
  },
  {
   "cell_type": "code",
   "execution_count": null,
   "id": "89b245b5",
   "metadata": {
    "colab": {
     "base_uri": "https://localhost:8080/"
    },
    "executionInfo": {
     "elapsed": 19,
     "status": "ok",
     "timestamp": 1668187700339,
     "user": {
      "displayName": "Kaylie Lau",
      "userId": "01284785813595846851"
     },
     "user_tz": 300
    },
    "id": "89b245b5",
    "outputId": "45aab05c-fdb2-499f-d083-e2e8f1bc3854"
   },
   "outputs": [
    {
     "data": {
      "text/plain": [
       "['/content/sample_data/README.md',\n",
       " '/content/sample_data/anscombe.json',\n",
       " '/content/sample_data/california_housing_train.csv',\n",
       " '/content/sample_data/mnist_test.csv',\n",
       " '/content/sample_data/california_housing_test.csv',\n",
       " '/content/sample_data/mnist_train_small.csv']"
      ]
     },
     "execution_count": 41,
     "metadata": {},
     "output_type": "execute_result"
    }
   ],
   "source": [
    "# create full paths for sample data files\n",
    "\n",
    "cwd = os.getcwd()\n",
    "full_paths = []\n",
    "for i in os.listdir('sample_data'):\n",
    "    full_paths.append(os.path.join(cwd, \n",
    "                                   'sample_data', \n",
    "                                   i))\n",
    "full_paths"
   ]
  },
  {
   "cell_type": "code",
   "execution_count": null,
   "id": "f7d65c3e",
   "metadata": {
    "id": "f7d65c3e"
   },
   "outputs": [],
   "source": [
    "# check if a file exists to avoid overwriting it\n",
    "text = 'Lavender is a small purple flower.'\n",
    "\n",
    "if os.path.exists('plants.txt'):\n",
    "    print('plants.txt already exists')\n",
    "else:\n",
    "    with open('plants.txt', 'w') as f:\n",
    "        f.write(text)"
   ]
  },
  {
   "cell_type": "markdown",
   "id": "5016d56e",
   "metadata": {
    "id": "5016d56e"
   },
   "source": [
    "# Object-Oriented Programming\n",
    "(a very brief introduction)"
   ]
  },
  {
   "cell_type": "markdown",
   "id": "dac05654",
   "metadata": {
    "id": "dac05654"
   },
   "source": [
    "## What is object-oriented programming (OOP)?\n",
    "\n",
    "_Object-oriented programming_ is an approach to writing programs that organizes code into _objects_ with data, or _attributes_, and _methods_ (which we've seen before!). The Python types we have seen are all objects. The data science packages we'll encounter adopt this approach as well.\n",
    "\n",
    "In Python, objects are modeled with _classes_. We can think of a class as a template that defines an object's attributes and methods."
   ]
  },
  {
   "cell_type": "markdown",
   "id": "073bd969",
   "metadata": {
    "id": "073bd969"
   },
   "source": [
    "## An OOP approach\n",
    "\n",
    "Object-oriented programming can be broken down into phases:\n",
    "\n",
    "1. **Understanding the problem domain**: What work is the program meant to do?\n",
    "2. **Identifying type(s) that might be needed**: Types might correspond to nouns and noun phrases in the problem domain.\n",
    "3. **Identifying features types should have**: Come up with examples of code that uses the type.\n",
    "4. **Writing a class to represent a type**: Translate the type into a Python class and methods.\n",
    "5. **Testing code**: Making sure methods work as expected individually and together."
   ]
  },
  {
   "cell_type": "markdown",
   "id": "70bb0d1f",
   "metadata": {
    "id": "70bb0d1f"
   },
   "source": [
    "For example, we can model basketball players as a class. To keep it simple, let's say each player has a position, team, and jersey number. Players can dribble, shoot, or pass the ball to another player.\n",
    "\n",
    "In this case, the class _BasketballPlayer_ would have the attributes _position_, _team_, and _jersey_number_, and the methods _dribble()_, _shoot()_, and _pass_ball(player)_. To create a new BasketballPlayer, we would have to somehow specify their position, team, and jersey number."
   ]
  },
  {
   "cell_type": "markdown",
   "id": "c3ee1c5c",
   "metadata": {
    "id": "c3ee1c5c"
   },
   "source": [
    "We can model abstract concepts as classes, too. A _Dataset_ class might have attributes like values and size. Methods could include calculating summary statistics, like finding the mean or counting unique values. To create a new Dataset, we would have to specify the values, while the size could be calculated for us.\n",
    "\n",
    "A _LinearModel_ class might have attributes like coefficients and variables, and methods to fit the model to data or make predictions."
   ]
  },
  {
   "cell_type": "markdown",
   "id": "1764ae0c",
   "metadata": {
    "id": "1764ae0c"
   },
   "source": [
    "## Creating a class\n",
    "\n",
    "Let's turn _Dataset_ into an actual class. Similar to how we use `def` to start a function definition, we use `class` to define a new class. Class names, by convention, start with a capital letter.\n",
    "\n",
    "```python\n",
    "class Dataset:\n",
    "    '''Data values and methods to summarize them''''\n",
    "```"
   ]
  },
  {
   "cell_type": "markdown",
   "id": "d72534f5",
   "metadata": {
    "id": "d72534f5"
   },
   "source": [
    "Then, we define the class's `__init__()` method, which is a special method that is called whenever we make a new instance of our class. It _initializes_ the object in memory. The first parameter of every method is  `self`, a reference to the object. `__init()__` should also take data to use to make an object -- in this case, values to store. \n",
    "\n",
    "```python\n",
    "class Dataset:\n",
    "    '''Data values and methods to summarize them'''\n",
    "    \n",
    "    def __init__(self, values):\n",
    "        '''Create a new dataset with values as a list'''\n",
    "```"
   ]
  },
  {
   "cell_type": "markdown",
   "id": "e4b4d1f1",
   "metadata": {
    "id": "e4b4d1f1"
   },
   "source": [
    "We use `__init__()` to attach data, or attributes, to the individual object. This looks like variable assignments we've seen so far, except that every variable name starts with `self.`. Notice that attributes can be derived.\n",
    "\n",
    "```python\n",
    "class Dataset:\n",
    "    '''Data values and methods to summarize them'''\n",
    "    \n",
    "    def __init__(self, values):\n",
    "        '''Create a new dataset with values as a list'''\n",
    "        self.values = values\n",
    "        self.size = len(values)\n",
    "```"
   ]
  },
  {
   "cell_type": "markdown",
   "id": "2741c59d",
   "metadata": {
    "id": "2741c59d"
   },
   "source": [
    "We can then define additional methods. Each method takes `self` as its first parameter. Attributes should always be referenced with the `self.` prefix.\n",
    "\n",
    "```python\n",
    "    def unique(self):\n",
    "        '''Return a list of unique values'''\n",
    "        return list(set(self.values))\n",
    "```"
   ]
  },
  {
   "cell_type": "markdown",
   "id": "72e26677",
   "metadata": {
    "id": "72e26677"
   },
   "source": [
    "A bare-bones Dataset class might look like this."
   ]
  },
  {
   "cell_type": "code",
   "execution_count": null,
   "id": "ddc50fe6",
   "metadata": {
    "id": "ddc50fe6"
   },
   "outputs": [],
   "source": [
    "class Dataset:\n",
    "    '''Data values and methods to summarize them'''\n",
    "    \n",
    "    def __init__(self, values):\n",
    "        '''Create a new dataset with values as a list'''\n",
    "        self.values = values\n",
    "        self.size = len(values)\n",
    "        \n",
    "    def unique(self):\n",
    "        '''Return a list of unique values'''\n",
    "        return list(set(self.values))\n",
    "    \n",
    "    def mean(self):\n",
    "        '''Return the mean of all numeric values'''\n",
    "        numbers = []\n",
    "        \n",
    "        for i in self.values:\n",
    "            if type(i) is int or type(i) is float:\n",
    "                numbers.append(i)\n",
    "        return sum(numbers)/len(numbers)"
   ]
  },
  {
   "cell_type": "markdown",
   "id": "981b0404",
   "metadata": {
    "id": "981b0404"
   },
   "source": [
    "To create a Dataset instance, we do not call `__init__()` directly. Instead, we call `Dataset()`, passing in `values`. Once we have a Dataset instance, we can call Dataset methods just as we did built-in type methods."
   ]
  },
  {
   "cell_type": "code",
   "execution_count": null,
   "id": "0844ec54",
   "metadata": {
    "colab": {
     "base_uri": "https://localhost:8080/"
    },
    "executionInfo": {
     "elapsed": 20,
     "status": "ok",
     "timestamp": 1668187700345,
     "user": {
      "displayName": "Kaylie Lau",
      "userId": "01284785813595846851"
     },
     "user_tz": 300
    },
    "id": "0844ec54",
    "outputId": "7946bcee-cac6-4a8c-f5f5-e5d628977243"
   },
   "outputs": [
    {
     "name": "stdout",
     "output_type": "stream",
     "text": [
      "[90, 'A', 70, 87]\n",
      "6\n",
      "80.8\n"
     ]
    }
   ],
   "source": [
    "grades = Dataset([90, 87, 70, 70, 87, 'A'])\n",
    "\n",
    "print(grades.unique())\n",
    "print(grades.size)\n",
    "print(grades.mean())"
   ]
  },
  {
   "cell_type": "markdown",
   "id": "533fdd56",
   "metadata": {
    "id": "533fdd56"
   },
   "source": [
    "## Why the double underscores?\n",
    "\n",
    "`__init__()` is what Python calls a magic or dunder (for double underscore) method. These methods customize what Python does when other functions are called, like how `__init__()` defined `Dataset()`. \n",
    "\n",
    "Other common magic methods we encounter in classes are `__repr__()`, which tells Python what should appear when we `print()` an object, and `__str__()`, which Python uses to convert an object to a string."
   ]
  },
  {
   "cell_type": "markdown",
   "id": "888c1c1d",
   "metadata": {
    "id": "888c1c1d"
   },
   "source": [
    "## Why learn this?\n",
    "\n",
    "It's possible to do a lot of analysis without ever designing our own classes. We do, however, encounter objects all the time. The hypothetical _Dataset_ and _LinearModel_ classes are simplified versions of real classes in packages like `numpy` and `scikit-learn`. Having an intuition for objects makes it easier to understand why code looks the way it does and helps demystify documentation, which often assumes the reader is familiar with OOP concepts."
   ]
  },
  {
   "cell_type": "markdown",
   "id": "b8f97d53",
   "metadata": {
    "id": "b8f97d53"
   },
   "source": [
    "# References"
   ]
  },
  {
   "cell_type": "markdown",
   "id": "0d1c483c",
   "metadata": {
    "id": "0d1c483c"
   },
   "source": [
    "- Bostroem, Bekolay, and Staneva (eds): \"Software Carpentry: Programming with Python\" Version 2016.06, June 2016, https://github.com/swcarpentry/python-novice-inflammation, 10.5281/zenodo.57492.\n",
    "- Chapter 6, 10 and 14, Gries, Campbell, and Montojo, 2017, *Practical Programming: An Introduction to Computer Science Using Python 3.6*\n",
    "- \"Modules\", Python Software Foundation, *Python Language Reference, version 3.* https://docs.python.org/3/tutorial/modules.html.\n",
    "- \"datetime\", Python Software Foundation, *Python language Reference, version 3.* https://docs.python.org/3/library/datetime.html\n",
    "- \"os\", Python Software Foundation, *Python language Reference, version 3.* https://docs.python.org/3/library/os.html\n",
    "- \"re\", Python Software Foundation, *Python Language Reference, version 3.* https://docs.python.org/3/library/re.html"
   ]
  }
 ],
 "metadata": {
  "celltoolbar": "Slideshow",
  "colab": {
   "collapsed_sections": [
    "5c336296",
    "e1418831",
    "6052feea",
    "47bae18f",
    "8c6114c7",
    "6db08b6b",
    "9675877a",
    "f2a33ae5",
    "0c8dd018",
    "054484b0",
    "91f3154b",
    "a277810c",
    "8ec68487",
    "86b48775",
    "7456e7db",
    "7357d118",
    "c83aae9f",
    "7b02eeb2",
    "dac05654",
    "073bd969",
    "1764ae0c",
    "533fdd56",
    "888c1c1d"
   ],
   "provenance": []
  },
  "kernelspec": {
   "display_name": "Python 3",
   "language": "python",
   "name": "python3"
  },
  "language_info": {
   "codemirror_mode": {
    "name": "ipython",
    "version": 3
   },
   "file_extension": ".py",
   "mimetype": "text/x-python",
   "name": "python",
   "nbconvert_exporter": "python",
   "pygments_lexer": "ipython3",
   "version": "3.8.8"
  },
  "rise": {
   "scroll": true,
   "theme": "solarized",
   "transition": "none"
  }
 },
 "nbformat": 4,
 "nbformat_minor": 5
}
